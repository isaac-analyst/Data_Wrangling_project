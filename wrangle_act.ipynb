{
 "cells": [
  {
   "cell_type": "markdown",
   "id": "08d79a08",
   "metadata": {},
   "source": [
    "# Project: WeRateDogs Wrangling and Analyze Data"
   ]
  },
  {
   "cell_type": "markdown",
   "id": "9062c415",
   "metadata": {},
   "source": [
    "## Table of Content"
   ]
  },
  {
   "cell_type": "markdown",
   "id": "8cb46826",
   "metadata": {},
   "source": [
    "1. Introduction\n",
    "2. Data Gathering\n",
    "3. Importing the needed packages\n",
    "4. Assess Data\n",
    "5. Data cleaning\n",
    "6. Data Analysis and Visualization."
   ]
  },
  {
   "cell_type": "markdown",
   "id": "b1183f1f",
   "metadata": {},
   "source": [
    "## Introduction\n",
    "\n",
    "   WeRateDogs is a Twitter account that rates people's dogs with a humorous comment about the dog. The data \"WeRateDogs\"  which was downloaded from their Twitter archive and provided by udacity for this project and There is also an additional tsv file and a csv file which contains the tweet_id which was also provided by udacity. These datas which has been filtered to create the enhanced archive data that forms the basis of this analysis. The goal of this project is to wrangle the data ( gather, assess, and clean)  into a tidy dataset, storing and then  analysis will be done on the data."
   ]
  },
  {
   "cell_type": "markdown",
   "id": "d96372fb",
   "metadata": {},
   "source": [
    "## Data Gathering"
   ]
  },
  {
   "cell_type": "code",
   "execution_count": 1,
   "id": "00d6e185",
   "metadata": {},
   "outputs": [],
   "source": [
    "# importing the needed packages\n",
    "import pandas as pd\n",
    "import numpy as np\n",
    "import requests\n",
    "import os\n",
    "import matplotlib.pyplot as plt\n",
    "import seaborn as sns\n",
    "import tweepy\n",
    "import json\n",
    "import sys\n",
    "import time\n",
    "import re\n",
    "from tweepy import OAuthHandler\n",
    "from timeit import default_timer as timer\n",
    "\n",
    "import warnings\n",
    "warnings.simplefilter('ignore')\n"
   ]
  },
  {
   "cell_type": "code",
   "execution_count": 2,
   "id": "c09f9894",
   "metadata": {},
   "outputs": [],
   "source": [
    "# loading the twitter-archive-enhanced data \n",
    "twitter_arc = pd.read_csv('twitter-archive-enhanced.csv')"
   ]
  },
  {
   "cell_type": "markdown",
   "id": "bf1de27c",
   "metadata": {},
   "source": [
    "using  the requests package to download the tsv data from the link provided by Udacity"
   ]
  },
  {
   "cell_type": "code",
   "execution_count": 3,
   "id": "c16f41ff",
   "metadata": {},
   "outputs": [
    {
     "data": {
      "text/plain": [
       "<Response [200]>"
      ]
     },
     "execution_count": 3,
     "metadata": {},
     "output_type": "execute_result"
    }
   ],
   "source": [
    "# downloading The tweet image predictions from the link provided by Udacity\n",
    "url = 'https://d17h27t6h515a5.cloudfront.net/topher/2017/August/599fd2ad_image-predictions/image-predictions.tsv'\n",
    "response = requests.get(url)\n",
    "response"
   ]
  },
  {
   "cell_type": "markdown",
   "id": "18bc5f79",
   "metadata": {},
   "source": [
    "Response 200 indicated that download was successful"
   ]
  },
  {
   "cell_type": "code",
   "execution_count": 4,
   "id": "c9ea2013",
   "metadata": {},
   "outputs": [],
   "source": [
    "# storing the tsv file into my local system\n",
    "image_file = url.split('/')[-1]\n",
    "\n",
    "with open(os.path.join(image_file,), mode = 'wb') as file:\n",
    "    file.write(response.content)"
   ]
  },
  {
   "cell_type": "code",
   "execution_count": 5,
   "id": "c9fa34bc",
   "metadata": {},
   "outputs": [],
   "source": [
    "# reading the image_file to a dataframe and asign it to a variable called image_prediction \n",
    "image_prediction = pd.read_csv(image_file, sep= '\\t')"
   ]
  },
  {
   "cell_type": "markdown",
   "id": "be86525b",
   "metadata": {},
   "source": [
    "Quary of Twitter's API which was gathered using Python's Tweepy library to get the data and was stored in JSON file provided by udacity. it will be used to get the tweet related data and its save as tweet_json.txt."
   ]
  },
  {
   "cell_type": "code",
   "execution_count": null,
   "id": "18985670",
   "metadata": {},
   "outputs": [],
   "source": [
    "# Query Twitter API for each tweet in the Twitter archive and save JSON in a text file\n",
    "# These are hidden to comply with Twitter's API terms and conditions\n",
    "consumer_key = 'HIDDEN'\n",
    "consumer_secret = 'HIDDEN'\n",
    "access_token = 'HIDDEN'\n",
    "access_secret = 'HIDDEN'\n",
    "\n",
    "auth = OAuthHandler(consumer_key, consumer_secret)\n",
    "auth.set_access_token(access_token, access_secret)\n",
    "\n",
    "api = tweepy.API(auth, wait_on_rate_limit=True)\n",
    "\n",
    "# NOTE TO STUDENT WITH MOBILE VERIFICATION ISSUES:\n",
    "# df_1 is a DataFrame with the twitter_archive_enhanced.csv file. You may have to\n",
    "# change line 17 to match the name of your DataFrame with twitter_archive_enhanced.csv\n",
    "# NOTE TO REVIEWER: this student had mobile verification issues so the following\n",
    "# Twitter API code was sent to this student from a Udacity instructor\n",
    "# Tweet IDs for which to gather additional data via Twitter's API\n",
    "tweet_ids = twitter_arc.tweet_id.values\n",
    "len(tweet_ids)\n",
    "\n",
    "# Query Twitter's API for JSON data for each tweet ID in the Twitter archive\n",
    "count = 0\n",
    "fails_dict = {}\n",
    "start = timer()\n",
    "# Save each tweet's returned JSON as a new line in a .txt file\n",
    "with open('tweet_json.txt', 'w') as outfile:\n",
    "    # This loop will likely take 20-30 minutes to run because of Twitter's rate limit\n",
    "    for tweet_id in tweet_ids:\n",
    "        count += 1\n",
    "        print(str(count) + \": \" + str(tweet_id))\n",
    "        try:\n",
    "            tweet = api.get_status(tweet_id, tweet_mode='extended')\n",
    "            print(\"Success\")\n",
    "            json.dump(tweet._json, outfile)\n",
    "            outfile.write('\\n')\n",
    "        except tweepy.TweepError as e:\n",
    "            print(\"Fail\")\n",
    "            fails_dict[tweet_id] = e\n",
    "            pass\n",
    "end = timer()\n",
    "print(end - start)\n",
    "print(fails_dict)"
   ]
  },
  {
   "cell_type": "markdown",
   "id": "98e59440",
   "metadata": {},
   "source": [
    "Read the tweet-json.txt data into data frame"
   ]
  },
  {
   "cell_type": "code",
   "execution_count": 6,
   "id": "8f48386a",
   "metadata": {},
   "outputs": [],
   "source": [
    "#reading the Json.txt file line by line into Pandas DataFrame with tweet_id, retweet_count and favorite_count\n",
    "df = []\n",
    "with open('tweet-json.txt', 'r') as Json_file:\n",
    "    for line in Json_file:\n",
    "        tweet = (json.loads(line))\n",
    "        tweet_id = tweet['id']\n",
    "        retweet_count = tweet['retweet_count']\n",
    "        favorite_count = tweet['favorite_count']\n",
    "        create_date = tweet['created_at']\n",
    "        df.append({'retweet_count' : retweet_count,\n",
    "                  'favorite_count' : favorite_count,\n",
    "                  'create_date' : create_date,\n",
    "                  'tweet_id' : tweet_id})\n",
    "        \n",
    "#saving the tweet-json.txt file into a dataframe called df_tweet\n",
    "df_tweet = pd.DataFrame(df, columns = ['tweet_id', 'retweet_count', 'favorite_count'])"
   ]
  },
  {
   "cell_type": "markdown",
   "id": "1190d466",
   "metadata": {},
   "source": [
    "## Assess Data"
   ]
  },
  {
   "cell_type": "markdown",
   "id": "8253a578",
   "metadata": {},
   "source": [
    "In this section the gathered data will be visually and programmatically assessed for quality and tidiness issues."
   ]
  },
  {
   "cell_type": "markdown",
   "id": "33ca50fb",
   "metadata": {},
   "source": [
    "### Visual Assesment"
   ]
  },
  {
   "cell_type": "code",
   "execution_count": 7,
   "id": "d758c673",
   "metadata": {},
   "outputs": [
    {
     "data": {
      "text/html": [
       "<div>\n",
       "<style scoped>\n",
       "    .dataframe tbody tr th:only-of-type {\n",
       "        vertical-align: middle;\n",
       "    }\n",
       "\n",
       "    .dataframe tbody tr th {\n",
       "        vertical-align: top;\n",
       "    }\n",
       "\n",
       "    .dataframe thead th {\n",
       "        text-align: right;\n",
       "    }\n",
       "</style>\n",
       "<table border=\"1\" class=\"dataframe\">\n",
       "  <thead>\n",
       "    <tr style=\"text-align: right;\">\n",
       "      <th></th>\n",
       "      <th>tweet_id</th>\n",
       "      <th>in_reply_to_status_id</th>\n",
       "      <th>in_reply_to_user_id</th>\n",
       "      <th>timestamp</th>\n",
       "      <th>source</th>\n",
       "      <th>text</th>\n",
       "      <th>retweeted_status_id</th>\n",
       "      <th>retweeted_status_user_id</th>\n",
       "      <th>retweeted_status_timestamp</th>\n",
       "      <th>expanded_urls</th>\n",
       "      <th>rating_numerator</th>\n",
       "      <th>rating_denominator</th>\n",
       "      <th>name</th>\n",
       "      <th>doggo</th>\n",
       "      <th>floofer</th>\n",
       "      <th>pupper</th>\n",
       "      <th>puppo</th>\n",
       "    </tr>\n",
       "  </thead>\n",
       "  <tbody>\n",
       "    <tr>\n",
       "      <th>0</th>\n",
       "      <td>892420643555336193</td>\n",
       "      <td>NaN</td>\n",
       "      <td>NaN</td>\n",
       "      <td>2017-08-01 16:23:56 +0000</td>\n",
       "      <td>&lt;a href=\"http://twitter.com/download/iphone\" r...</td>\n",
       "      <td>This is Phineas. He's a mystical boy. Only eve...</td>\n",
       "      <td>NaN</td>\n",
       "      <td>NaN</td>\n",
       "      <td>NaN</td>\n",
       "      <td>https://twitter.com/dog_rates/status/892420643...</td>\n",
       "      <td>13</td>\n",
       "      <td>10</td>\n",
       "      <td>Phineas</td>\n",
       "      <td>None</td>\n",
       "      <td>None</td>\n",
       "      <td>None</td>\n",
       "      <td>None</td>\n",
       "    </tr>\n",
       "    <tr>\n",
       "      <th>1</th>\n",
       "      <td>892177421306343426</td>\n",
       "      <td>NaN</td>\n",
       "      <td>NaN</td>\n",
       "      <td>2017-08-01 00:17:27 +0000</td>\n",
       "      <td>&lt;a href=\"http://twitter.com/download/iphone\" r...</td>\n",
       "      <td>This is Tilly. She's just checking pup on you....</td>\n",
       "      <td>NaN</td>\n",
       "      <td>NaN</td>\n",
       "      <td>NaN</td>\n",
       "      <td>https://twitter.com/dog_rates/status/892177421...</td>\n",
       "      <td>13</td>\n",
       "      <td>10</td>\n",
       "      <td>Tilly</td>\n",
       "      <td>None</td>\n",
       "      <td>None</td>\n",
       "      <td>None</td>\n",
       "      <td>None</td>\n",
       "    </tr>\n",
       "    <tr>\n",
       "      <th>2</th>\n",
       "      <td>891815181378084864</td>\n",
       "      <td>NaN</td>\n",
       "      <td>NaN</td>\n",
       "      <td>2017-07-31 00:18:03 +0000</td>\n",
       "      <td>&lt;a href=\"http://twitter.com/download/iphone\" r...</td>\n",
       "      <td>This is Archie. He is a rare Norwegian Pouncin...</td>\n",
       "      <td>NaN</td>\n",
       "      <td>NaN</td>\n",
       "      <td>NaN</td>\n",
       "      <td>https://twitter.com/dog_rates/status/891815181...</td>\n",
       "      <td>12</td>\n",
       "      <td>10</td>\n",
       "      <td>Archie</td>\n",
       "      <td>None</td>\n",
       "      <td>None</td>\n",
       "      <td>None</td>\n",
       "      <td>None</td>\n",
       "    </tr>\n",
       "    <tr>\n",
       "      <th>3</th>\n",
       "      <td>891689557279858688</td>\n",
       "      <td>NaN</td>\n",
       "      <td>NaN</td>\n",
       "      <td>2017-07-30 15:58:51 +0000</td>\n",
       "      <td>&lt;a href=\"http://twitter.com/download/iphone\" r...</td>\n",
       "      <td>This is Darla. She commenced a snooze mid meal...</td>\n",
       "      <td>NaN</td>\n",
       "      <td>NaN</td>\n",
       "      <td>NaN</td>\n",
       "      <td>https://twitter.com/dog_rates/status/891689557...</td>\n",
       "      <td>13</td>\n",
       "      <td>10</td>\n",
       "      <td>Darla</td>\n",
       "      <td>None</td>\n",
       "      <td>None</td>\n",
       "      <td>None</td>\n",
       "      <td>None</td>\n",
       "    </tr>\n",
       "    <tr>\n",
       "      <th>4</th>\n",
       "      <td>891327558926688256</td>\n",
       "      <td>NaN</td>\n",
       "      <td>NaN</td>\n",
       "      <td>2017-07-29 16:00:24 +0000</td>\n",
       "      <td>&lt;a href=\"http://twitter.com/download/iphone\" r...</td>\n",
       "      <td>This is Franklin. He would like you to stop ca...</td>\n",
       "      <td>NaN</td>\n",
       "      <td>NaN</td>\n",
       "      <td>NaN</td>\n",
       "      <td>https://twitter.com/dog_rates/status/891327558...</td>\n",
       "      <td>12</td>\n",
       "      <td>10</td>\n",
       "      <td>Franklin</td>\n",
       "      <td>None</td>\n",
       "      <td>None</td>\n",
       "      <td>None</td>\n",
       "      <td>None</td>\n",
       "    </tr>\n",
       "    <tr>\n",
       "      <th>...</th>\n",
       "      <td>...</td>\n",
       "      <td>...</td>\n",
       "      <td>...</td>\n",
       "      <td>...</td>\n",
       "      <td>...</td>\n",
       "      <td>...</td>\n",
       "      <td>...</td>\n",
       "      <td>...</td>\n",
       "      <td>...</td>\n",
       "      <td>...</td>\n",
       "      <td>...</td>\n",
       "      <td>...</td>\n",
       "      <td>...</td>\n",
       "      <td>...</td>\n",
       "      <td>...</td>\n",
       "      <td>...</td>\n",
       "      <td>...</td>\n",
       "    </tr>\n",
       "    <tr>\n",
       "      <th>2351</th>\n",
       "      <td>666049248165822465</td>\n",
       "      <td>NaN</td>\n",
       "      <td>NaN</td>\n",
       "      <td>2015-11-16 00:24:50 +0000</td>\n",
       "      <td>&lt;a href=\"http://twitter.com/download/iphone\" r...</td>\n",
       "      <td>Here we have a 1949 1st generation vulpix. Enj...</td>\n",
       "      <td>NaN</td>\n",
       "      <td>NaN</td>\n",
       "      <td>NaN</td>\n",
       "      <td>https://twitter.com/dog_rates/status/666049248...</td>\n",
       "      <td>5</td>\n",
       "      <td>10</td>\n",
       "      <td>None</td>\n",
       "      <td>None</td>\n",
       "      <td>None</td>\n",
       "      <td>None</td>\n",
       "      <td>None</td>\n",
       "    </tr>\n",
       "    <tr>\n",
       "      <th>2352</th>\n",
       "      <td>666044226329800704</td>\n",
       "      <td>NaN</td>\n",
       "      <td>NaN</td>\n",
       "      <td>2015-11-16 00:04:52 +0000</td>\n",
       "      <td>&lt;a href=\"http://twitter.com/download/iphone\" r...</td>\n",
       "      <td>This is a purebred Piers Morgan. Loves to Netf...</td>\n",
       "      <td>NaN</td>\n",
       "      <td>NaN</td>\n",
       "      <td>NaN</td>\n",
       "      <td>https://twitter.com/dog_rates/status/666044226...</td>\n",
       "      <td>6</td>\n",
       "      <td>10</td>\n",
       "      <td>a</td>\n",
       "      <td>None</td>\n",
       "      <td>None</td>\n",
       "      <td>None</td>\n",
       "      <td>None</td>\n",
       "    </tr>\n",
       "    <tr>\n",
       "      <th>2353</th>\n",
       "      <td>666033412701032449</td>\n",
       "      <td>NaN</td>\n",
       "      <td>NaN</td>\n",
       "      <td>2015-11-15 23:21:54 +0000</td>\n",
       "      <td>&lt;a href=\"http://twitter.com/download/iphone\" r...</td>\n",
       "      <td>Here is a very happy pup. Big fan of well-main...</td>\n",
       "      <td>NaN</td>\n",
       "      <td>NaN</td>\n",
       "      <td>NaN</td>\n",
       "      <td>https://twitter.com/dog_rates/status/666033412...</td>\n",
       "      <td>9</td>\n",
       "      <td>10</td>\n",
       "      <td>a</td>\n",
       "      <td>None</td>\n",
       "      <td>None</td>\n",
       "      <td>None</td>\n",
       "      <td>None</td>\n",
       "    </tr>\n",
       "    <tr>\n",
       "      <th>2354</th>\n",
       "      <td>666029285002620928</td>\n",
       "      <td>NaN</td>\n",
       "      <td>NaN</td>\n",
       "      <td>2015-11-15 23:05:30 +0000</td>\n",
       "      <td>&lt;a href=\"http://twitter.com/download/iphone\" r...</td>\n",
       "      <td>This is a western brown Mitsubishi terrier. Up...</td>\n",
       "      <td>NaN</td>\n",
       "      <td>NaN</td>\n",
       "      <td>NaN</td>\n",
       "      <td>https://twitter.com/dog_rates/status/666029285...</td>\n",
       "      <td>7</td>\n",
       "      <td>10</td>\n",
       "      <td>a</td>\n",
       "      <td>None</td>\n",
       "      <td>None</td>\n",
       "      <td>None</td>\n",
       "      <td>None</td>\n",
       "    </tr>\n",
       "    <tr>\n",
       "      <th>2355</th>\n",
       "      <td>666020888022790149</td>\n",
       "      <td>NaN</td>\n",
       "      <td>NaN</td>\n",
       "      <td>2015-11-15 22:32:08 +0000</td>\n",
       "      <td>&lt;a href=\"http://twitter.com/download/iphone\" r...</td>\n",
       "      <td>Here we have a Japanese Irish Setter. Lost eye...</td>\n",
       "      <td>NaN</td>\n",
       "      <td>NaN</td>\n",
       "      <td>NaN</td>\n",
       "      <td>https://twitter.com/dog_rates/status/666020888...</td>\n",
       "      <td>8</td>\n",
       "      <td>10</td>\n",
       "      <td>None</td>\n",
       "      <td>None</td>\n",
       "      <td>None</td>\n",
       "      <td>None</td>\n",
       "      <td>None</td>\n",
       "    </tr>\n",
       "  </tbody>\n",
       "</table>\n",
       "<p>2356 rows × 17 columns</p>\n",
       "</div>"
      ],
      "text/plain": [
       "                tweet_id  in_reply_to_status_id  in_reply_to_user_id  \\\n",
       "0     892420643555336193                    NaN                  NaN   \n",
       "1     892177421306343426                    NaN                  NaN   \n",
       "2     891815181378084864                    NaN                  NaN   \n",
       "3     891689557279858688                    NaN                  NaN   \n",
       "4     891327558926688256                    NaN                  NaN   \n",
       "...                  ...                    ...                  ...   \n",
       "2351  666049248165822465                    NaN                  NaN   \n",
       "2352  666044226329800704                    NaN                  NaN   \n",
       "2353  666033412701032449                    NaN                  NaN   \n",
       "2354  666029285002620928                    NaN                  NaN   \n",
       "2355  666020888022790149                    NaN                  NaN   \n",
       "\n",
       "                      timestamp  \\\n",
       "0     2017-08-01 16:23:56 +0000   \n",
       "1     2017-08-01 00:17:27 +0000   \n",
       "2     2017-07-31 00:18:03 +0000   \n",
       "3     2017-07-30 15:58:51 +0000   \n",
       "4     2017-07-29 16:00:24 +0000   \n",
       "...                         ...   \n",
       "2351  2015-11-16 00:24:50 +0000   \n",
       "2352  2015-11-16 00:04:52 +0000   \n",
       "2353  2015-11-15 23:21:54 +0000   \n",
       "2354  2015-11-15 23:05:30 +0000   \n",
       "2355  2015-11-15 22:32:08 +0000   \n",
       "\n",
       "                                                 source  \\\n",
       "0     <a href=\"http://twitter.com/download/iphone\" r...   \n",
       "1     <a href=\"http://twitter.com/download/iphone\" r...   \n",
       "2     <a href=\"http://twitter.com/download/iphone\" r...   \n",
       "3     <a href=\"http://twitter.com/download/iphone\" r...   \n",
       "4     <a href=\"http://twitter.com/download/iphone\" r...   \n",
       "...                                                 ...   \n",
       "2351  <a href=\"http://twitter.com/download/iphone\" r...   \n",
       "2352  <a href=\"http://twitter.com/download/iphone\" r...   \n",
       "2353  <a href=\"http://twitter.com/download/iphone\" r...   \n",
       "2354  <a href=\"http://twitter.com/download/iphone\" r...   \n",
       "2355  <a href=\"http://twitter.com/download/iphone\" r...   \n",
       "\n",
       "                                                   text  retweeted_status_id  \\\n",
       "0     This is Phineas. He's a mystical boy. Only eve...                  NaN   \n",
       "1     This is Tilly. She's just checking pup on you....                  NaN   \n",
       "2     This is Archie. He is a rare Norwegian Pouncin...                  NaN   \n",
       "3     This is Darla. She commenced a snooze mid meal...                  NaN   \n",
       "4     This is Franklin. He would like you to stop ca...                  NaN   \n",
       "...                                                 ...                  ...   \n",
       "2351  Here we have a 1949 1st generation vulpix. Enj...                  NaN   \n",
       "2352  This is a purebred Piers Morgan. Loves to Netf...                  NaN   \n",
       "2353  Here is a very happy pup. Big fan of well-main...                  NaN   \n",
       "2354  This is a western brown Mitsubishi terrier. Up...                  NaN   \n",
       "2355  Here we have a Japanese Irish Setter. Lost eye...                  NaN   \n",
       "\n",
       "      retweeted_status_user_id retweeted_status_timestamp  \\\n",
       "0                          NaN                        NaN   \n",
       "1                          NaN                        NaN   \n",
       "2                          NaN                        NaN   \n",
       "3                          NaN                        NaN   \n",
       "4                          NaN                        NaN   \n",
       "...                        ...                        ...   \n",
       "2351                       NaN                        NaN   \n",
       "2352                       NaN                        NaN   \n",
       "2353                       NaN                        NaN   \n",
       "2354                       NaN                        NaN   \n",
       "2355                       NaN                        NaN   \n",
       "\n",
       "                                          expanded_urls  rating_numerator  \\\n",
       "0     https://twitter.com/dog_rates/status/892420643...                13   \n",
       "1     https://twitter.com/dog_rates/status/892177421...                13   \n",
       "2     https://twitter.com/dog_rates/status/891815181...                12   \n",
       "3     https://twitter.com/dog_rates/status/891689557...                13   \n",
       "4     https://twitter.com/dog_rates/status/891327558...                12   \n",
       "...                                                 ...               ...   \n",
       "2351  https://twitter.com/dog_rates/status/666049248...                 5   \n",
       "2352  https://twitter.com/dog_rates/status/666044226...                 6   \n",
       "2353  https://twitter.com/dog_rates/status/666033412...                 9   \n",
       "2354  https://twitter.com/dog_rates/status/666029285...                 7   \n",
       "2355  https://twitter.com/dog_rates/status/666020888...                 8   \n",
       "\n",
       "      rating_denominator      name doggo floofer pupper puppo  \n",
       "0                     10   Phineas  None    None   None  None  \n",
       "1                     10     Tilly  None    None   None  None  \n",
       "2                     10    Archie  None    None   None  None  \n",
       "3                     10     Darla  None    None   None  None  \n",
       "4                     10  Franklin  None    None   None  None  \n",
       "...                  ...       ...   ...     ...    ...   ...  \n",
       "2351                  10      None  None    None   None  None  \n",
       "2352                  10         a  None    None   None  None  \n",
       "2353                  10         a  None    None   None  None  \n",
       "2354                  10         a  None    None   None  None  \n",
       "2355                  10      None  None    None   None  None  \n",
       "\n",
       "[2356 rows x 17 columns]"
      ]
     },
     "execution_count": 7,
     "metadata": {},
     "output_type": "execute_result"
    }
   ],
   "source": [
    "#loading twitter-archive dataframe to visual assessment\n",
    "twitter_arc"
   ]
  },
  {
   "cell_type": "code",
   "execution_count": 8,
   "id": "436d6960",
   "metadata": {},
   "outputs": [
    {
     "data": {
      "text/html": [
       "<div>\n",
       "<style scoped>\n",
       "    .dataframe tbody tr th:only-of-type {\n",
       "        vertical-align: middle;\n",
       "    }\n",
       "\n",
       "    .dataframe tbody tr th {\n",
       "        vertical-align: top;\n",
       "    }\n",
       "\n",
       "    .dataframe thead th {\n",
       "        text-align: right;\n",
       "    }\n",
       "</style>\n",
       "<table border=\"1\" class=\"dataframe\">\n",
       "  <thead>\n",
       "    <tr style=\"text-align: right;\">\n",
       "      <th></th>\n",
       "      <th>tweet_id</th>\n",
       "      <th>jpg_url</th>\n",
       "      <th>img_num</th>\n",
       "      <th>p1</th>\n",
       "      <th>p1_conf</th>\n",
       "      <th>p1_dog</th>\n",
       "      <th>p2</th>\n",
       "      <th>p2_conf</th>\n",
       "      <th>p2_dog</th>\n",
       "      <th>p3</th>\n",
       "      <th>p3_conf</th>\n",
       "      <th>p3_dog</th>\n",
       "    </tr>\n",
       "  </thead>\n",
       "  <tbody>\n",
       "    <tr>\n",
       "      <th>0</th>\n",
       "      <td>666020888022790149</td>\n",
       "      <td>https://pbs.twimg.com/media/CT4udn0WwAA0aMy.jpg</td>\n",
       "      <td>1</td>\n",
       "      <td>Welsh_springer_spaniel</td>\n",
       "      <td>0.465074</td>\n",
       "      <td>True</td>\n",
       "      <td>collie</td>\n",
       "      <td>0.156665</td>\n",
       "      <td>True</td>\n",
       "      <td>Shetland_sheepdog</td>\n",
       "      <td>0.061428</td>\n",
       "      <td>True</td>\n",
       "    </tr>\n",
       "    <tr>\n",
       "      <th>1</th>\n",
       "      <td>666029285002620928</td>\n",
       "      <td>https://pbs.twimg.com/media/CT42GRgUYAA5iDo.jpg</td>\n",
       "      <td>1</td>\n",
       "      <td>redbone</td>\n",
       "      <td>0.506826</td>\n",
       "      <td>True</td>\n",
       "      <td>miniature_pinscher</td>\n",
       "      <td>0.074192</td>\n",
       "      <td>True</td>\n",
       "      <td>Rhodesian_ridgeback</td>\n",
       "      <td>0.072010</td>\n",
       "      <td>True</td>\n",
       "    </tr>\n",
       "    <tr>\n",
       "      <th>2</th>\n",
       "      <td>666033412701032449</td>\n",
       "      <td>https://pbs.twimg.com/media/CT4521TWwAEvMyu.jpg</td>\n",
       "      <td>1</td>\n",
       "      <td>German_shepherd</td>\n",
       "      <td>0.596461</td>\n",
       "      <td>True</td>\n",
       "      <td>malinois</td>\n",
       "      <td>0.138584</td>\n",
       "      <td>True</td>\n",
       "      <td>bloodhound</td>\n",
       "      <td>0.116197</td>\n",
       "      <td>True</td>\n",
       "    </tr>\n",
       "    <tr>\n",
       "      <th>3</th>\n",
       "      <td>666044226329800704</td>\n",
       "      <td>https://pbs.twimg.com/media/CT5Dr8HUEAA-lEu.jpg</td>\n",
       "      <td>1</td>\n",
       "      <td>Rhodesian_ridgeback</td>\n",
       "      <td>0.408143</td>\n",
       "      <td>True</td>\n",
       "      <td>redbone</td>\n",
       "      <td>0.360687</td>\n",
       "      <td>True</td>\n",
       "      <td>miniature_pinscher</td>\n",
       "      <td>0.222752</td>\n",
       "      <td>True</td>\n",
       "    </tr>\n",
       "    <tr>\n",
       "      <th>4</th>\n",
       "      <td>666049248165822465</td>\n",
       "      <td>https://pbs.twimg.com/media/CT5IQmsXIAAKY4A.jpg</td>\n",
       "      <td>1</td>\n",
       "      <td>miniature_pinscher</td>\n",
       "      <td>0.560311</td>\n",
       "      <td>True</td>\n",
       "      <td>Rottweiler</td>\n",
       "      <td>0.243682</td>\n",
       "      <td>True</td>\n",
       "      <td>Doberman</td>\n",
       "      <td>0.154629</td>\n",
       "      <td>True</td>\n",
       "    </tr>\n",
       "    <tr>\n",
       "      <th>...</th>\n",
       "      <td>...</td>\n",
       "      <td>...</td>\n",
       "      <td>...</td>\n",
       "      <td>...</td>\n",
       "      <td>...</td>\n",
       "      <td>...</td>\n",
       "      <td>...</td>\n",
       "      <td>...</td>\n",
       "      <td>...</td>\n",
       "      <td>...</td>\n",
       "      <td>...</td>\n",
       "      <td>...</td>\n",
       "    </tr>\n",
       "    <tr>\n",
       "      <th>2070</th>\n",
       "      <td>891327558926688256</td>\n",
       "      <td>https://pbs.twimg.com/media/DF6hr6BUMAAzZgT.jpg</td>\n",
       "      <td>2</td>\n",
       "      <td>basset</td>\n",
       "      <td>0.555712</td>\n",
       "      <td>True</td>\n",
       "      <td>English_springer</td>\n",
       "      <td>0.225770</td>\n",
       "      <td>True</td>\n",
       "      <td>German_short-haired_pointer</td>\n",
       "      <td>0.175219</td>\n",
       "      <td>True</td>\n",
       "    </tr>\n",
       "    <tr>\n",
       "      <th>2071</th>\n",
       "      <td>891689557279858688</td>\n",
       "      <td>https://pbs.twimg.com/media/DF_q7IAWsAEuuN8.jpg</td>\n",
       "      <td>1</td>\n",
       "      <td>paper_towel</td>\n",
       "      <td>0.170278</td>\n",
       "      <td>False</td>\n",
       "      <td>Labrador_retriever</td>\n",
       "      <td>0.168086</td>\n",
       "      <td>True</td>\n",
       "      <td>spatula</td>\n",
       "      <td>0.040836</td>\n",
       "      <td>False</td>\n",
       "    </tr>\n",
       "    <tr>\n",
       "      <th>2072</th>\n",
       "      <td>891815181378084864</td>\n",
       "      <td>https://pbs.twimg.com/media/DGBdLU1WsAANxJ9.jpg</td>\n",
       "      <td>1</td>\n",
       "      <td>Chihuahua</td>\n",
       "      <td>0.716012</td>\n",
       "      <td>True</td>\n",
       "      <td>malamute</td>\n",
       "      <td>0.078253</td>\n",
       "      <td>True</td>\n",
       "      <td>kelpie</td>\n",
       "      <td>0.031379</td>\n",
       "      <td>True</td>\n",
       "    </tr>\n",
       "    <tr>\n",
       "      <th>2073</th>\n",
       "      <td>892177421306343426</td>\n",
       "      <td>https://pbs.twimg.com/media/DGGmoV4XsAAUL6n.jpg</td>\n",
       "      <td>1</td>\n",
       "      <td>Chihuahua</td>\n",
       "      <td>0.323581</td>\n",
       "      <td>True</td>\n",
       "      <td>Pekinese</td>\n",
       "      <td>0.090647</td>\n",
       "      <td>True</td>\n",
       "      <td>papillon</td>\n",
       "      <td>0.068957</td>\n",
       "      <td>True</td>\n",
       "    </tr>\n",
       "    <tr>\n",
       "      <th>2074</th>\n",
       "      <td>892420643555336193</td>\n",
       "      <td>https://pbs.twimg.com/media/DGKD1-bXoAAIAUK.jpg</td>\n",
       "      <td>1</td>\n",
       "      <td>orange</td>\n",
       "      <td>0.097049</td>\n",
       "      <td>False</td>\n",
       "      <td>bagel</td>\n",
       "      <td>0.085851</td>\n",
       "      <td>False</td>\n",
       "      <td>banana</td>\n",
       "      <td>0.076110</td>\n",
       "      <td>False</td>\n",
       "    </tr>\n",
       "  </tbody>\n",
       "</table>\n",
       "<p>2075 rows × 12 columns</p>\n",
       "</div>"
      ],
      "text/plain": [
       "                tweet_id                                          jpg_url  \\\n",
       "0     666020888022790149  https://pbs.twimg.com/media/CT4udn0WwAA0aMy.jpg   \n",
       "1     666029285002620928  https://pbs.twimg.com/media/CT42GRgUYAA5iDo.jpg   \n",
       "2     666033412701032449  https://pbs.twimg.com/media/CT4521TWwAEvMyu.jpg   \n",
       "3     666044226329800704  https://pbs.twimg.com/media/CT5Dr8HUEAA-lEu.jpg   \n",
       "4     666049248165822465  https://pbs.twimg.com/media/CT5IQmsXIAAKY4A.jpg   \n",
       "...                  ...                                              ...   \n",
       "2070  891327558926688256  https://pbs.twimg.com/media/DF6hr6BUMAAzZgT.jpg   \n",
       "2071  891689557279858688  https://pbs.twimg.com/media/DF_q7IAWsAEuuN8.jpg   \n",
       "2072  891815181378084864  https://pbs.twimg.com/media/DGBdLU1WsAANxJ9.jpg   \n",
       "2073  892177421306343426  https://pbs.twimg.com/media/DGGmoV4XsAAUL6n.jpg   \n",
       "2074  892420643555336193  https://pbs.twimg.com/media/DGKD1-bXoAAIAUK.jpg   \n",
       "\n",
       "      img_num                      p1   p1_conf  p1_dog                  p2  \\\n",
       "0           1  Welsh_springer_spaniel  0.465074    True              collie   \n",
       "1           1                 redbone  0.506826    True  miniature_pinscher   \n",
       "2           1         German_shepherd  0.596461    True            malinois   \n",
       "3           1     Rhodesian_ridgeback  0.408143    True             redbone   \n",
       "4           1      miniature_pinscher  0.560311    True          Rottweiler   \n",
       "...       ...                     ...       ...     ...                 ...   \n",
       "2070        2                  basset  0.555712    True    English_springer   \n",
       "2071        1             paper_towel  0.170278   False  Labrador_retriever   \n",
       "2072        1               Chihuahua  0.716012    True            malamute   \n",
       "2073        1               Chihuahua  0.323581    True            Pekinese   \n",
       "2074        1                  orange  0.097049   False               bagel   \n",
       "\n",
       "       p2_conf  p2_dog                           p3   p3_conf  p3_dog  \n",
       "0     0.156665    True            Shetland_sheepdog  0.061428    True  \n",
       "1     0.074192    True          Rhodesian_ridgeback  0.072010    True  \n",
       "2     0.138584    True                   bloodhound  0.116197    True  \n",
       "3     0.360687    True           miniature_pinscher  0.222752    True  \n",
       "4     0.243682    True                     Doberman  0.154629    True  \n",
       "...        ...     ...                          ...       ...     ...  \n",
       "2070  0.225770    True  German_short-haired_pointer  0.175219    True  \n",
       "2071  0.168086    True                      spatula  0.040836   False  \n",
       "2072  0.078253    True                       kelpie  0.031379    True  \n",
       "2073  0.090647    True                     papillon  0.068957    True  \n",
       "2074  0.085851   False                       banana  0.076110   False  \n",
       "\n",
       "[2075 rows x 12 columns]"
      ]
     },
     "execution_count": 8,
     "metadata": {},
     "output_type": "execute_result"
    }
   ],
   "source": [
    "# loading image-prediction dataframe for visual assessment\n",
    "image_prediction"
   ]
  },
  {
   "cell_type": "code",
   "execution_count": 9,
   "id": "df85c454",
   "metadata": {},
   "outputs": [
    {
     "data": {
      "text/html": [
       "<div>\n",
       "<style scoped>\n",
       "    .dataframe tbody tr th:only-of-type {\n",
       "        vertical-align: middle;\n",
       "    }\n",
       "\n",
       "    .dataframe tbody tr th {\n",
       "        vertical-align: top;\n",
       "    }\n",
       "\n",
       "    .dataframe thead th {\n",
       "        text-align: right;\n",
       "    }\n",
       "</style>\n",
       "<table border=\"1\" class=\"dataframe\">\n",
       "  <thead>\n",
       "    <tr style=\"text-align: right;\">\n",
       "      <th></th>\n",
       "      <th>tweet_id</th>\n",
       "      <th>retweet_count</th>\n",
       "      <th>favorite_count</th>\n",
       "    </tr>\n",
       "  </thead>\n",
       "  <tbody>\n",
       "    <tr>\n",
       "      <th>0</th>\n",
       "      <td>892420643555336193</td>\n",
       "      <td>8853</td>\n",
       "      <td>39467</td>\n",
       "    </tr>\n",
       "    <tr>\n",
       "      <th>1</th>\n",
       "      <td>892177421306343426</td>\n",
       "      <td>6514</td>\n",
       "      <td>33819</td>\n",
       "    </tr>\n",
       "    <tr>\n",
       "      <th>2</th>\n",
       "      <td>891815181378084864</td>\n",
       "      <td>4328</td>\n",
       "      <td>25461</td>\n",
       "    </tr>\n",
       "    <tr>\n",
       "      <th>3</th>\n",
       "      <td>891689557279858688</td>\n",
       "      <td>8964</td>\n",
       "      <td>42908</td>\n",
       "    </tr>\n",
       "    <tr>\n",
       "      <th>4</th>\n",
       "      <td>891327558926688256</td>\n",
       "      <td>9774</td>\n",
       "      <td>41048</td>\n",
       "    </tr>\n",
       "    <tr>\n",
       "      <th>...</th>\n",
       "      <td>...</td>\n",
       "      <td>...</td>\n",
       "      <td>...</td>\n",
       "    </tr>\n",
       "    <tr>\n",
       "      <th>2349</th>\n",
       "      <td>666049248165822465</td>\n",
       "      <td>41</td>\n",
       "      <td>111</td>\n",
       "    </tr>\n",
       "    <tr>\n",
       "      <th>2350</th>\n",
       "      <td>666044226329800704</td>\n",
       "      <td>147</td>\n",
       "      <td>311</td>\n",
       "    </tr>\n",
       "    <tr>\n",
       "      <th>2351</th>\n",
       "      <td>666033412701032449</td>\n",
       "      <td>47</td>\n",
       "      <td>128</td>\n",
       "    </tr>\n",
       "    <tr>\n",
       "      <th>2352</th>\n",
       "      <td>666029285002620928</td>\n",
       "      <td>48</td>\n",
       "      <td>132</td>\n",
       "    </tr>\n",
       "    <tr>\n",
       "      <th>2353</th>\n",
       "      <td>666020888022790149</td>\n",
       "      <td>532</td>\n",
       "      <td>2535</td>\n",
       "    </tr>\n",
       "  </tbody>\n",
       "</table>\n",
       "<p>2354 rows × 3 columns</p>\n",
       "</div>"
      ],
      "text/plain": [
       "                tweet_id  retweet_count  favorite_count\n",
       "0     892420643555336193           8853           39467\n",
       "1     892177421306343426           6514           33819\n",
       "2     891815181378084864           4328           25461\n",
       "3     891689557279858688           8964           42908\n",
       "4     891327558926688256           9774           41048\n",
       "...                  ...            ...             ...\n",
       "2349  666049248165822465             41             111\n",
       "2350  666044226329800704            147             311\n",
       "2351  666033412701032449             47             128\n",
       "2352  666029285002620928             48             132\n",
       "2353  666020888022790149            532            2535\n",
       "\n",
       "[2354 rows x 3 columns]"
      ]
     },
     "execution_count": 9,
     "metadata": {},
     "output_type": "execute_result"
    }
   ],
   "source": [
    "# loading df_tweet to visually assess it\n",
    "df_tweet"
   ]
  },
  {
   "cell_type": "markdown",
   "id": "fe8d84b6",
   "metadata": {},
   "source": [
    "### Programmatical Assessment"
   ]
  },
  {
   "cell_type": "markdown",
   "id": "3f760a46",
   "metadata": {},
   "source": [
    "#### Twitter archive"
   ]
  },
  {
   "cell_type": "code",
   "execution_count": 10,
   "id": "a6262757",
   "metadata": {},
   "outputs": [
    {
     "data": {
      "text/html": [
       "<div>\n",
       "<style scoped>\n",
       "    .dataframe tbody tr th:only-of-type {\n",
       "        vertical-align: middle;\n",
       "    }\n",
       "\n",
       "    .dataframe tbody tr th {\n",
       "        vertical-align: top;\n",
       "    }\n",
       "\n",
       "    .dataframe thead th {\n",
       "        text-align: right;\n",
       "    }\n",
       "</style>\n",
       "<table border=\"1\" class=\"dataframe\">\n",
       "  <thead>\n",
       "    <tr style=\"text-align: right;\">\n",
       "      <th></th>\n",
       "      <th>tweet_id</th>\n",
       "      <th>in_reply_to_status_id</th>\n",
       "      <th>in_reply_to_user_id</th>\n",
       "      <th>timestamp</th>\n",
       "      <th>source</th>\n",
       "      <th>text</th>\n",
       "      <th>retweeted_status_id</th>\n",
       "      <th>retweeted_status_user_id</th>\n",
       "      <th>retweeted_status_timestamp</th>\n",
       "      <th>expanded_urls</th>\n",
       "      <th>rating_numerator</th>\n",
       "      <th>rating_denominator</th>\n",
       "      <th>name</th>\n",
       "      <th>doggo</th>\n",
       "      <th>floofer</th>\n",
       "      <th>pupper</th>\n",
       "      <th>puppo</th>\n",
       "    </tr>\n",
       "  </thead>\n",
       "  <tbody>\n",
       "    <tr>\n",
       "      <th>0</th>\n",
       "      <td>892420643555336193</td>\n",
       "      <td>NaN</td>\n",
       "      <td>NaN</td>\n",
       "      <td>2017-08-01 16:23:56 +0000</td>\n",
       "      <td>&lt;a href=\"http://twitter.com/download/iphone\" r...</td>\n",
       "      <td>This is Phineas. He's a mystical boy. Only eve...</td>\n",
       "      <td>NaN</td>\n",
       "      <td>NaN</td>\n",
       "      <td>NaN</td>\n",
       "      <td>https://twitter.com/dog_rates/status/892420643...</td>\n",
       "      <td>13</td>\n",
       "      <td>10</td>\n",
       "      <td>Phineas</td>\n",
       "      <td>None</td>\n",
       "      <td>None</td>\n",
       "      <td>None</td>\n",
       "      <td>None</td>\n",
       "    </tr>\n",
       "    <tr>\n",
       "      <th>1</th>\n",
       "      <td>892177421306343426</td>\n",
       "      <td>NaN</td>\n",
       "      <td>NaN</td>\n",
       "      <td>2017-08-01 00:17:27 +0000</td>\n",
       "      <td>&lt;a href=\"http://twitter.com/download/iphone\" r...</td>\n",
       "      <td>This is Tilly. She's just checking pup on you....</td>\n",
       "      <td>NaN</td>\n",
       "      <td>NaN</td>\n",
       "      <td>NaN</td>\n",
       "      <td>https://twitter.com/dog_rates/status/892177421...</td>\n",
       "      <td>13</td>\n",
       "      <td>10</td>\n",
       "      <td>Tilly</td>\n",
       "      <td>None</td>\n",
       "      <td>None</td>\n",
       "      <td>None</td>\n",
       "      <td>None</td>\n",
       "    </tr>\n",
       "    <tr>\n",
       "      <th>2</th>\n",
       "      <td>891815181378084864</td>\n",
       "      <td>NaN</td>\n",
       "      <td>NaN</td>\n",
       "      <td>2017-07-31 00:18:03 +0000</td>\n",
       "      <td>&lt;a href=\"http://twitter.com/download/iphone\" r...</td>\n",
       "      <td>This is Archie. He is a rare Norwegian Pouncin...</td>\n",
       "      <td>NaN</td>\n",
       "      <td>NaN</td>\n",
       "      <td>NaN</td>\n",
       "      <td>https://twitter.com/dog_rates/status/891815181...</td>\n",
       "      <td>12</td>\n",
       "      <td>10</td>\n",
       "      <td>Archie</td>\n",
       "      <td>None</td>\n",
       "      <td>None</td>\n",
       "      <td>None</td>\n",
       "      <td>None</td>\n",
       "    </tr>\n",
       "    <tr>\n",
       "      <th>3</th>\n",
       "      <td>891689557279858688</td>\n",
       "      <td>NaN</td>\n",
       "      <td>NaN</td>\n",
       "      <td>2017-07-30 15:58:51 +0000</td>\n",
       "      <td>&lt;a href=\"http://twitter.com/download/iphone\" r...</td>\n",
       "      <td>This is Darla. She commenced a snooze mid meal...</td>\n",
       "      <td>NaN</td>\n",
       "      <td>NaN</td>\n",
       "      <td>NaN</td>\n",
       "      <td>https://twitter.com/dog_rates/status/891689557...</td>\n",
       "      <td>13</td>\n",
       "      <td>10</td>\n",
       "      <td>Darla</td>\n",
       "      <td>None</td>\n",
       "      <td>None</td>\n",
       "      <td>None</td>\n",
       "      <td>None</td>\n",
       "    </tr>\n",
       "    <tr>\n",
       "      <th>4</th>\n",
       "      <td>891327558926688256</td>\n",
       "      <td>NaN</td>\n",
       "      <td>NaN</td>\n",
       "      <td>2017-07-29 16:00:24 +0000</td>\n",
       "      <td>&lt;a href=\"http://twitter.com/download/iphone\" r...</td>\n",
       "      <td>This is Franklin. He would like you to stop ca...</td>\n",
       "      <td>NaN</td>\n",
       "      <td>NaN</td>\n",
       "      <td>NaN</td>\n",
       "      <td>https://twitter.com/dog_rates/status/891327558...</td>\n",
       "      <td>12</td>\n",
       "      <td>10</td>\n",
       "      <td>Franklin</td>\n",
       "      <td>None</td>\n",
       "      <td>None</td>\n",
       "      <td>None</td>\n",
       "      <td>None</td>\n",
       "    </tr>\n",
       "  </tbody>\n",
       "</table>\n",
       "</div>"
      ],
      "text/plain": [
       "             tweet_id  in_reply_to_status_id  in_reply_to_user_id  \\\n",
       "0  892420643555336193                    NaN                  NaN   \n",
       "1  892177421306343426                    NaN                  NaN   \n",
       "2  891815181378084864                    NaN                  NaN   \n",
       "3  891689557279858688                    NaN                  NaN   \n",
       "4  891327558926688256                    NaN                  NaN   \n",
       "\n",
       "                   timestamp  \\\n",
       "0  2017-08-01 16:23:56 +0000   \n",
       "1  2017-08-01 00:17:27 +0000   \n",
       "2  2017-07-31 00:18:03 +0000   \n",
       "3  2017-07-30 15:58:51 +0000   \n",
       "4  2017-07-29 16:00:24 +0000   \n",
       "\n",
       "                                              source  \\\n",
       "0  <a href=\"http://twitter.com/download/iphone\" r...   \n",
       "1  <a href=\"http://twitter.com/download/iphone\" r...   \n",
       "2  <a href=\"http://twitter.com/download/iphone\" r...   \n",
       "3  <a href=\"http://twitter.com/download/iphone\" r...   \n",
       "4  <a href=\"http://twitter.com/download/iphone\" r...   \n",
       "\n",
       "                                                text  retweeted_status_id  \\\n",
       "0  This is Phineas. He's a mystical boy. Only eve...                  NaN   \n",
       "1  This is Tilly. She's just checking pup on you....                  NaN   \n",
       "2  This is Archie. He is a rare Norwegian Pouncin...                  NaN   \n",
       "3  This is Darla. She commenced a snooze mid meal...                  NaN   \n",
       "4  This is Franklin. He would like you to stop ca...                  NaN   \n",
       "\n",
       "   retweeted_status_user_id retweeted_status_timestamp  \\\n",
       "0                       NaN                        NaN   \n",
       "1                       NaN                        NaN   \n",
       "2                       NaN                        NaN   \n",
       "3                       NaN                        NaN   \n",
       "4                       NaN                        NaN   \n",
       "\n",
       "                                       expanded_urls  rating_numerator  \\\n",
       "0  https://twitter.com/dog_rates/status/892420643...                13   \n",
       "1  https://twitter.com/dog_rates/status/892177421...                13   \n",
       "2  https://twitter.com/dog_rates/status/891815181...                12   \n",
       "3  https://twitter.com/dog_rates/status/891689557...                13   \n",
       "4  https://twitter.com/dog_rates/status/891327558...                12   \n",
       "\n",
       "   rating_denominator      name doggo floofer pupper puppo  \n",
       "0                  10   Phineas  None    None   None  None  \n",
       "1                  10     Tilly  None    None   None  None  \n",
       "2                  10    Archie  None    None   None  None  \n",
       "3                  10     Darla  None    None   None  None  \n",
       "4                  10  Franklin  None    None   None  None  "
      ]
     },
     "execution_count": 10,
     "metadata": {},
     "output_type": "execute_result"
    }
   ],
   "source": [
    "# programmatically assessing the first five rows of the twitter\n",
    "twitter_arc.head()"
   ]
  },
  {
   "cell_type": "code",
   "execution_count": 11,
   "id": "ea92c629",
   "metadata": {},
   "outputs": [
    {
     "data": {
      "text/html": [
       "<div>\n",
       "<style scoped>\n",
       "    .dataframe tbody tr th:only-of-type {\n",
       "        vertical-align: middle;\n",
       "    }\n",
       "\n",
       "    .dataframe tbody tr th {\n",
       "        vertical-align: top;\n",
       "    }\n",
       "\n",
       "    .dataframe thead th {\n",
       "        text-align: right;\n",
       "    }\n",
       "</style>\n",
       "<table border=\"1\" class=\"dataframe\">\n",
       "  <thead>\n",
       "    <tr style=\"text-align: right;\">\n",
       "      <th></th>\n",
       "      <th>tweet_id</th>\n",
       "      <th>in_reply_to_status_id</th>\n",
       "      <th>in_reply_to_user_id</th>\n",
       "      <th>timestamp</th>\n",
       "      <th>source</th>\n",
       "      <th>text</th>\n",
       "      <th>retweeted_status_id</th>\n",
       "      <th>retweeted_status_user_id</th>\n",
       "      <th>retweeted_status_timestamp</th>\n",
       "      <th>expanded_urls</th>\n",
       "      <th>rating_numerator</th>\n",
       "      <th>rating_denominator</th>\n",
       "      <th>name</th>\n",
       "      <th>doggo</th>\n",
       "      <th>floofer</th>\n",
       "      <th>pupper</th>\n",
       "      <th>puppo</th>\n",
       "    </tr>\n",
       "  </thead>\n",
       "  <tbody>\n",
       "    <tr>\n",
       "      <th>2351</th>\n",
       "      <td>666049248165822465</td>\n",
       "      <td>NaN</td>\n",
       "      <td>NaN</td>\n",
       "      <td>2015-11-16 00:24:50 +0000</td>\n",
       "      <td>&lt;a href=\"http://twitter.com/download/iphone\" r...</td>\n",
       "      <td>Here we have a 1949 1st generation vulpix. Enj...</td>\n",
       "      <td>NaN</td>\n",
       "      <td>NaN</td>\n",
       "      <td>NaN</td>\n",
       "      <td>https://twitter.com/dog_rates/status/666049248...</td>\n",
       "      <td>5</td>\n",
       "      <td>10</td>\n",
       "      <td>None</td>\n",
       "      <td>None</td>\n",
       "      <td>None</td>\n",
       "      <td>None</td>\n",
       "      <td>None</td>\n",
       "    </tr>\n",
       "    <tr>\n",
       "      <th>2352</th>\n",
       "      <td>666044226329800704</td>\n",
       "      <td>NaN</td>\n",
       "      <td>NaN</td>\n",
       "      <td>2015-11-16 00:04:52 +0000</td>\n",
       "      <td>&lt;a href=\"http://twitter.com/download/iphone\" r...</td>\n",
       "      <td>This is a purebred Piers Morgan. Loves to Netf...</td>\n",
       "      <td>NaN</td>\n",
       "      <td>NaN</td>\n",
       "      <td>NaN</td>\n",
       "      <td>https://twitter.com/dog_rates/status/666044226...</td>\n",
       "      <td>6</td>\n",
       "      <td>10</td>\n",
       "      <td>a</td>\n",
       "      <td>None</td>\n",
       "      <td>None</td>\n",
       "      <td>None</td>\n",
       "      <td>None</td>\n",
       "    </tr>\n",
       "    <tr>\n",
       "      <th>2353</th>\n",
       "      <td>666033412701032449</td>\n",
       "      <td>NaN</td>\n",
       "      <td>NaN</td>\n",
       "      <td>2015-11-15 23:21:54 +0000</td>\n",
       "      <td>&lt;a href=\"http://twitter.com/download/iphone\" r...</td>\n",
       "      <td>Here is a very happy pup. Big fan of well-main...</td>\n",
       "      <td>NaN</td>\n",
       "      <td>NaN</td>\n",
       "      <td>NaN</td>\n",
       "      <td>https://twitter.com/dog_rates/status/666033412...</td>\n",
       "      <td>9</td>\n",
       "      <td>10</td>\n",
       "      <td>a</td>\n",
       "      <td>None</td>\n",
       "      <td>None</td>\n",
       "      <td>None</td>\n",
       "      <td>None</td>\n",
       "    </tr>\n",
       "    <tr>\n",
       "      <th>2354</th>\n",
       "      <td>666029285002620928</td>\n",
       "      <td>NaN</td>\n",
       "      <td>NaN</td>\n",
       "      <td>2015-11-15 23:05:30 +0000</td>\n",
       "      <td>&lt;a href=\"http://twitter.com/download/iphone\" r...</td>\n",
       "      <td>This is a western brown Mitsubishi terrier. Up...</td>\n",
       "      <td>NaN</td>\n",
       "      <td>NaN</td>\n",
       "      <td>NaN</td>\n",
       "      <td>https://twitter.com/dog_rates/status/666029285...</td>\n",
       "      <td>7</td>\n",
       "      <td>10</td>\n",
       "      <td>a</td>\n",
       "      <td>None</td>\n",
       "      <td>None</td>\n",
       "      <td>None</td>\n",
       "      <td>None</td>\n",
       "    </tr>\n",
       "    <tr>\n",
       "      <th>2355</th>\n",
       "      <td>666020888022790149</td>\n",
       "      <td>NaN</td>\n",
       "      <td>NaN</td>\n",
       "      <td>2015-11-15 22:32:08 +0000</td>\n",
       "      <td>&lt;a href=\"http://twitter.com/download/iphone\" r...</td>\n",
       "      <td>Here we have a Japanese Irish Setter. Lost eye...</td>\n",
       "      <td>NaN</td>\n",
       "      <td>NaN</td>\n",
       "      <td>NaN</td>\n",
       "      <td>https://twitter.com/dog_rates/status/666020888...</td>\n",
       "      <td>8</td>\n",
       "      <td>10</td>\n",
       "      <td>None</td>\n",
       "      <td>None</td>\n",
       "      <td>None</td>\n",
       "      <td>None</td>\n",
       "      <td>None</td>\n",
       "    </tr>\n",
       "  </tbody>\n",
       "</table>\n",
       "</div>"
      ],
      "text/plain": [
       "                tweet_id  in_reply_to_status_id  in_reply_to_user_id  \\\n",
       "2351  666049248165822465                    NaN                  NaN   \n",
       "2352  666044226329800704                    NaN                  NaN   \n",
       "2353  666033412701032449                    NaN                  NaN   \n",
       "2354  666029285002620928                    NaN                  NaN   \n",
       "2355  666020888022790149                    NaN                  NaN   \n",
       "\n",
       "                      timestamp  \\\n",
       "2351  2015-11-16 00:24:50 +0000   \n",
       "2352  2015-11-16 00:04:52 +0000   \n",
       "2353  2015-11-15 23:21:54 +0000   \n",
       "2354  2015-11-15 23:05:30 +0000   \n",
       "2355  2015-11-15 22:32:08 +0000   \n",
       "\n",
       "                                                 source  \\\n",
       "2351  <a href=\"http://twitter.com/download/iphone\" r...   \n",
       "2352  <a href=\"http://twitter.com/download/iphone\" r...   \n",
       "2353  <a href=\"http://twitter.com/download/iphone\" r...   \n",
       "2354  <a href=\"http://twitter.com/download/iphone\" r...   \n",
       "2355  <a href=\"http://twitter.com/download/iphone\" r...   \n",
       "\n",
       "                                                   text  retweeted_status_id  \\\n",
       "2351  Here we have a 1949 1st generation vulpix. Enj...                  NaN   \n",
       "2352  This is a purebred Piers Morgan. Loves to Netf...                  NaN   \n",
       "2353  Here is a very happy pup. Big fan of well-main...                  NaN   \n",
       "2354  This is a western brown Mitsubishi terrier. Up...                  NaN   \n",
       "2355  Here we have a Japanese Irish Setter. Lost eye...                  NaN   \n",
       "\n",
       "      retweeted_status_user_id retweeted_status_timestamp  \\\n",
       "2351                       NaN                        NaN   \n",
       "2352                       NaN                        NaN   \n",
       "2353                       NaN                        NaN   \n",
       "2354                       NaN                        NaN   \n",
       "2355                       NaN                        NaN   \n",
       "\n",
       "                                          expanded_urls  rating_numerator  \\\n",
       "2351  https://twitter.com/dog_rates/status/666049248...                 5   \n",
       "2352  https://twitter.com/dog_rates/status/666044226...                 6   \n",
       "2353  https://twitter.com/dog_rates/status/666033412...                 9   \n",
       "2354  https://twitter.com/dog_rates/status/666029285...                 7   \n",
       "2355  https://twitter.com/dog_rates/status/666020888...                 8   \n",
       "\n",
       "      rating_denominator  name doggo floofer pupper puppo  \n",
       "2351                  10  None  None    None   None  None  \n",
       "2352                  10     a  None    None   None  None  \n",
       "2353                  10     a  None    None   None  None  \n",
       "2354                  10     a  None    None   None  None  \n",
       "2355                  10  None  None    None   None  None  "
      ]
     },
     "execution_count": 11,
     "metadata": {},
     "output_type": "execute_result"
    }
   ],
   "source": [
    "# checking the last five rows\n",
    "twitter_arc.tail()"
   ]
  },
  {
   "cell_type": "code",
   "execution_count": 12,
   "id": "2f915808",
   "metadata": {},
   "outputs": [
    {
     "name": "stdout",
     "output_type": "stream",
     "text": [
      "<class 'pandas.core.frame.DataFrame'>\n",
      "RangeIndex: 2356 entries, 0 to 2355\n",
      "Data columns (total 17 columns):\n",
      " #   Column                      Non-Null Count  Dtype  \n",
      "---  ------                      --------------  -----  \n",
      " 0   tweet_id                    2356 non-null   int64  \n",
      " 1   in_reply_to_status_id       78 non-null     float64\n",
      " 2   in_reply_to_user_id         78 non-null     float64\n",
      " 3   timestamp                   2356 non-null   object \n",
      " 4   source                      2356 non-null   object \n",
      " 5   text                        2356 non-null   object \n",
      " 6   retweeted_status_id         181 non-null    float64\n",
      " 7   retweeted_status_user_id    181 non-null    float64\n",
      " 8   retweeted_status_timestamp  181 non-null    object \n",
      " 9   expanded_urls               2297 non-null   object \n",
      " 10  rating_numerator            2356 non-null   int64  \n",
      " 11  rating_denominator          2356 non-null   int64  \n",
      " 12  name                        2356 non-null   object \n",
      " 13  doggo                       2356 non-null   object \n",
      " 14  floofer                     2356 non-null   object \n",
      " 15  pupper                      2356 non-null   object \n",
      " 16  puppo                       2356 non-null   object \n",
      "dtypes: float64(4), int64(3), object(10)\n",
      "memory usage: 313.0+ KB\n"
     ]
    }
   ],
   "source": [
    "# checking the twiter archive informations\n",
    "twitter_arc.info()"
   ]
  },
  {
   "cell_type": "code",
   "execution_count": 13,
   "id": "90b480fa",
   "metadata": {},
   "outputs": [
    {
     "data": {
      "text/plain": [
       "2175"
      ]
     },
     "execution_count": 13,
     "metadata": {},
     "output_type": "execute_result"
    }
   ],
   "source": [
    "# checking for null values in retweeted status id\n",
    "twitter_arc['retweeted_status_id'].isnull().sum()"
   ]
  },
  {
   "cell_type": "code",
   "execution_count": 14,
   "id": "4e44739b",
   "metadata": {},
   "outputs": [
    {
     "data": {
      "text/plain": [
       "137"
      ]
     },
     "execution_count": 14,
     "metadata": {},
     "output_type": "execute_result"
    }
   ],
   "source": [
    "# checking for duplicated expanded urls\n",
    "sum(twitter_arc.expanded_urls.duplicated())"
   ]
  },
  {
   "cell_type": "code",
   "execution_count": 15,
   "id": "62b0c55d",
   "metadata": {},
   "outputs": [
    {
     "data": {
      "text/plain": [
       "0"
      ]
     },
     "execution_count": 15,
     "metadata": {},
     "output_type": "execute_result"
    }
   ],
   "source": [
    "# checking for duplicated tweet id\n",
    "sum(twitter_arc.duplicated())"
   ]
  },
  {
   "cell_type": "code",
   "execution_count": 16,
   "id": "621f8e01",
   "metadata": {},
   "outputs": [
    {
     "data": {
      "text/plain": [
       "None       745\n",
       "a           55\n",
       "Charlie     12\n",
       "Cooper      11\n",
       "Lucy        11\n",
       "Oliver      11\n",
       "Tucker      10\n",
       "Penny       10\n",
       "Lola        10\n",
       "Winston      9\n",
       "Bo           9\n",
       "Sadie        8\n",
       "the          8\n",
       "Daisy        7\n",
       "Buddy        7\n",
       "Toby         7\n",
       "an           7\n",
       "Bailey       7\n",
       "Leo          6\n",
       "Oscar        6\n",
       "Name: name, dtype: int64"
      ]
     },
     "execution_count": 16,
     "metadata": {},
     "output_type": "execute_result"
    }
   ],
   "source": [
    "#checking the value counts of the name column\n",
    "twitter_arc['name'].value_counts().head(20)"
   ]
  },
  {
   "cell_type": "code",
   "execution_count": 17,
   "id": "0025ef3a",
   "metadata": {},
   "outputs": [
    {
     "data": {
      "text/plain": [
       "59"
      ]
     },
     "execution_count": 17,
     "metadata": {},
     "output_type": "execute_result"
    }
   ],
   "source": [
    "# number of tweets with missing urls\n",
    "sum(twitter_arc.expanded_urls.isna())"
   ]
  },
  {
   "cell_type": "code",
   "execution_count": 18,
   "id": "6903ae2b",
   "metadata": {},
   "outputs": [
    {
     "data": {
      "text/plain": [
       "<a href=\"http://twitter.com/download/iphone\" rel=\"nofollow\">Twitter for iPhone</a>     2221\n",
       "<a href=\"http://vine.co\" rel=\"nofollow\">Vine - Make a Scene</a>                          91\n",
       "<a href=\"http://twitter.com\" rel=\"nofollow\">Twitter Web Client</a>                       33\n",
       "<a href=\"https://about.twitter.com/products/tweetdeck\" rel=\"nofollow\">TweetDeck</a>      11\n",
       "Name: source, dtype: int64"
      ]
     },
     "execution_count": 18,
     "metadata": {},
     "output_type": "execute_result"
    }
   ],
   "source": [
    "# assessing the source column\n",
    "twitter_arc.source.value_counts()"
   ]
  },
  {
   "cell_type": "code",
   "execution_count": 19,
   "id": "be29af57",
   "metadata": {},
   "outputs": [
    {
     "data": {
      "text/html": [
       "<div>\n",
       "<style scoped>\n",
       "    .dataframe tbody tr th:only-of-type {\n",
       "        vertical-align: middle;\n",
       "    }\n",
       "\n",
       "    .dataframe tbody tr th {\n",
       "        vertical-align: top;\n",
       "    }\n",
       "\n",
       "    .dataframe thead th {\n",
       "        text-align: right;\n",
       "    }\n",
       "</style>\n",
       "<table border=\"1\" class=\"dataframe\">\n",
       "  <thead>\n",
       "    <tr style=\"text-align: right;\">\n",
       "      <th></th>\n",
       "      <th>rating_numerator</th>\n",
       "      <th>rating_denominator</th>\n",
       "    </tr>\n",
       "  </thead>\n",
       "  <tbody>\n",
       "    <tr>\n",
       "      <th>count</th>\n",
       "      <td>2356.000000</td>\n",
       "      <td>2356.000000</td>\n",
       "    </tr>\n",
       "    <tr>\n",
       "      <th>mean</th>\n",
       "      <td>13.126486</td>\n",
       "      <td>10.455433</td>\n",
       "    </tr>\n",
       "    <tr>\n",
       "      <th>std</th>\n",
       "      <td>45.876648</td>\n",
       "      <td>6.745237</td>\n",
       "    </tr>\n",
       "    <tr>\n",
       "      <th>min</th>\n",
       "      <td>0.000000</td>\n",
       "      <td>0.000000</td>\n",
       "    </tr>\n",
       "    <tr>\n",
       "      <th>25%</th>\n",
       "      <td>10.000000</td>\n",
       "      <td>10.000000</td>\n",
       "    </tr>\n",
       "    <tr>\n",
       "      <th>50%</th>\n",
       "      <td>11.000000</td>\n",
       "      <td>10.000000</td>\n",
       "    </tr>\n",
       "    <tr>\n",
       "      <th>75%</th>\n",
       "      <td>12.000000</td>\n",
       "      <td>10.000000</td>\n",
       "    </tr>\n",
       "    <tr>\n",
       "      <th>max</th>\n",
       "      <td>1776.000000</td>\n",
       "      <td>170.000000</td>\n",
       "    </tr>\n",
       "  </tbody>\n",
       "</table>\n",
       "</div>"
      ],
      "text/plain": [
       "       rating_numerator  rating_denominator\n",
       "count       2356.000000         2356.000000\n",
       "mean          13.126486           10.455433\n",
       "std           45.876648            6.745237\n",
       "min            0.000000            0.000000\n",
       "25%           10.000000           10.000000\n",
       "50%           11.000000           10.000000\n",
       "75%           12.000000           10.000000\n",
       "max         1776.000000          170.000000"
      ]
     },
     "execution_count": 19,
     "metadata": {},
     "output_type": "execute_result"
    }
   ],
   "source": [
    "twitter_arc[['rating_numerator', 'rating_denominator']].describe()"
   ]
  },
  {
   "cell_type": "code",
   "execution_count": 20,
   "id": "b18b61bc",
   "metadata": {},
   "outputs": [
    {
     "data": {
      "text/plain": [
       "12      558\n",
       "11      464\n",
       "10      461\n",
       "13      351\n",
       "9       158\n",
       "8       102\n",
       "7        55\n",
       "14       54\n",
       "5        37\n",
       "6        32\n",
       "3        19\n",
       "4        17\n",
       "2         9\n",
       "1         9\n",
       "75        2\n",
       "15        2\n",
       "420       2\n",
       "0         2\n",
       "80        1\n",
       "144       1\n",
       "17        1\n",
       "26        1\n",
       "20        1\n",
       "121       1\n",
       "143       1\n",
       "44        1\n",
       "60        1\n",
       "45        1\n",
       "50        1\n",
       "99        1\n",
       "204       1\n",
       "1776      1\n",
       "165       1\n",
       "666       1\n",
       "27        1\n",
       "182       1\n",
       "24        1\n",
       "960       1\n",
       "84        1\n",
       "88        1\n",
       "Name: rating_numerator, dtype: int64"
      ]
     },
     "execution_count": 20,
     "metadata": {},
     "output_type": "execute_result"
    }
   ],
   "source": [
    "#checking the values of the rating_numerator and rating_denominator column\n",
    "twitter_arc['rating_numerator'].value_counts()"
   ]
  },
  {
   "cell_type": "code",
   "execution_count": 21,
   "id": "751bf536",
   "metadata": {},
   "outputs": [
    {
     "data": {
      "text/plain": [
       "28"
      ]
     },
     "execution_count": 21,
     "metadata": {},
     "output_type": "execute_result"
    }
   ],
   "source": [
    "sum(twitter_arc.rating_numerator >= 15)"
   ]
  },
  {
   "cell_type": "code",
   "execution_count": 22,
   "id": "d008c1a0",
   "metadata": {},
   "outputs": [
    {
     "data": {
      "text/plain": [
       "10     2333\n",
       "11        3\n",
       "50        3\n",
       "20        2\n",
       "80        2\n",
       "70        1\n",
       "7         1\n",
       "15        1\n",
       "150       1\n",
       "170       1\n",
       "0         1\n",
       "90        1\n",
       "40        1\n",
       "130       1\n",
       "110       1\n",
       "16        1\n",
       "120       1\n",
       "2         1\n",
       "Name: rating_denominator, dtype: int64"
      ]
     },
     "execution_count": 22,
     "metadata": {},
     "output_type": "execute_result"
    }
   ],
   "source": [
    "twitter_arc['rating_denominator'].value_counts()"
   ]
  },
  {
   "cell_type": "code",
   "execution_count": 23,
   "id": "1b05b1e4",
   "metadata": {},
   "outputs": [
    {
     "data": {
      "text/plain": [
       "23"
      ]
     },
     "execution_count": 23,
     "metadata": {},
     "output_type": "execute_result"
    }
   ],
   "source": [
    "sum(twitter_arc.rating_denominator != 10)"
   ]
  },
  {
   "cell_type": "markdown",
   "id": "54a18e3b",
   "metadata": {},
   "source": [
    "* Assessing the image prediction data frame"
   ]
  },
  {
   "cell_type": "code",
   "execution_count": 24,
   "id": "1a7155db",
   "metadata": {},
   "outputs": [
    {
     "data": {
      "text/html": [
       "<div>\n",
       "<style scoped>\n",
       "    .dataframe tbody tr th:only-of-type {\n",
       "        vertical-align: middle;\n",
       "    }\n",
       "\n",
       "    .dataframe tbody tr th {\n",
       "        vertical-align: top;\n",
       "    }\n",
       "\n",
       "    .dataframe thead th {\n",
       "        text-align: right;\n",
       "    }\n",
       "</style>\n",
       "<table border=\"1\" class=\"dataframe\">\n",
       "  <thead>\n",
       "    <tr style=\"text-align: right;\">\n",
       "      <th></th>\n",
       "      <th>tweet_id</th>\n",
       "      <th>jpg_url</th>\n",
       "      <th>img_num</th>\n",
       "      <th>p1</th>\n",
       "      <th>p1_conf</th>\n",
       "      <th>p1_dog</th>\n",
       "      <th>p2</th>\n",
       "      <th>p2_conf</th>\n",
       "      <th>p2_dog</th>\n",
       "      <th>p3</th>\n",
       "      <th>p3_conf</th>\n",
       "      <th>p3_dog</th>\n",
       "    </tr>\n",
       "  </thead>\n",
       "  <tbody>\n",
       "    <tr>\n",
       "      <th>0</th>\n",
       "      <td>666020888022790149</td>\n",
       "      <td>https://pbs.twimg.com/media/CT4udn0WwAA0aMy.jpg</td>\n",
       "      <td>1</td>\n",
       "      <td>Welsh_springer_spaniel</td>\n",
       "      <td>0.465074</td>\n",
       "      <td>True</td>\n",
       "      <td>collie</td>\n",
       "      <td>0.156665</td>\n",
       "      <td>True</td>\n",
       "      <td>Shetland_sheepdog</td>\n",
       "      <td>0.061428</td>\n",
       "      <td>True</td>\n",
       "    </tr>\n",
       "    <tr>\n",
       "      <th>1</th>\n",
       "      <td>666029285002620928</td>\n",
       "      <td>https://pbs.twimg.com/media/CT42GRgUYAA5iDo.jpg</td>\n",
       "      <td>1</td>\n",
       "      <td>redbone</td>\n",
       "      <td>0.506826</td>\n",
       "      <td>True</td>\n",
       "      <td>miniature_pinscher</td>\n",
       "      <td>0.074192</td>\n",
       "      <td>True</td>\n",
       "      <td>Rhodesian_ridgeback</td>\n",
       "      <td>0.072010</td>\n",
       "      <td>True</td>\n",
       "    </tr>\n",
       "    <tr>\n",
       "      <th>2</th>\n",
       "      <td>666033412701032449</td>\n",
       "      <td>https://pbs.twimg.com/media/CT4521TWwAEvMyu.jpg</td>\n",
       "      <td>1</td>\n",
       "      <td>German_shepherd</td>\n",
       "      <td>0.596461</td>\n",
       "      <td>True</td>\n",
       "      <td>malinois</td>\n",
       "      <td>0.138584</td>\n",
       "      <td>True</td>\n",
       "      <td>bloodhound</td>\n",
       "      <td>0.116197</td>\n",
       "      <td>True</td>\n",
       "    </tr>\n",
       "    <tr>\n",
       "      <th>3</th>\n",
       "      <td>666044226329800704</td>\n",
       "      <td>https://pbs.twimg.com/media/CT5Dr8HUEAA-lEu.jpg</td>\n",
       "      <td>1</td>\n",
       "      <td>Rhodesian_ridgeback</td>\n",
       "      <td>0.408143</td>\n",
       "      <td>True</td>\n",
       "      <td>redbone</td>\n",
       "      <td>0.360687</td>\n",
       "      <td>True</td>\n",
       "      <td>miniature_pinscher</td>\n",
       "      <td>0.222752</td>\n",
       "      <td>True</td>\n",
       "    </tr>\n",
       "    <tr>\n",
       "      <th>4</th>\n",
       "      <td>666049248165822465</td>\n",
       "      <td>https://pbs.twimg.com/media/CT5IQmsXIAAKY4A.jpg</td>\n",
       "      <td>1</td>\n",
       "      <td>miniature_pinscher</td>\n",
       "      <td>0.560311</td>\n",
       "      <td>True</td>\n",
       "      <td>Rottweiler</td>\n",
       "      <td>0.243682</td>\n",
       "      <td>True</td>\n",
       "      <td>Doberman</td>\n",
       "      <td>0.154629</td>\n",
       "      <td>True</td>\n",
       "    </tr>\n",
       "  </tbody>\n",
       "</table>\n",
       "</div>"
      ],
      "text/plain": [
       "             tweet_id                                          jpg_url  \\\n",
       "0  666020888022790149  https://pbs.twimg.com/media/CT4udn0WwAA0aMy.jpg   \n",
       "1  666029285002620928  https://pbs.twimg.com/media/CT42GRgUYAA5iDo.jpg   \n",
       "2  666033412701032449  https://pbs.twimg.com/media/CT4521TWwAEvMyu.jpg   \n",
       "3  666044226329800704  https://pbs.twimg.com/media/CT5Dr8HUEAA-lEu.jpg   \n",
       "4  666049248165822465  https://pbs.twimg.com/media/CT5IQmsXIAAKY4A.jpg   \n",
       "\n",
       "   img_num                      p1   p1_conf  p1_dog                  p2  \\\n",
       "0        1  Welsh_springer_spaniel  0.465074    True              collie   \n",
       "1        1                 redbone  0.506826    True  miniature_pinscher   \n",
       "2        1         German_shepherd  0.596461    True            malinois   \n",
       "3        1     Rhodesian_ridgeback  0.408143    True             redbone   \n",
       "4        1      miniature_pinscher  0.560311    True          Rottweiler   \n",
       "\n",
       "    p2_conf  p2_dog                   p3   p3_conf  p3_dog  \n",
       "0  0.156665    True    Shetland_sheepdog  0.061428    True  \n",
       "1  0.074192    True  Rhodesian_ridgeback  0.072010    True  \n",
       "2  0.138584    True           bloodhound  0.116197    True  \n",
       "3  0.360687    True   miniature_pinscher  0.222752    True  \n",
       "4  0.243682    True             Doberman  0.154629    True  "
      ]
     },
     "execution_count": 24,
     "metadata": {},
     "output_type": "execute_result"
    }
   ],
   "source": [
    "#programmatically assessing the image predction dataframe\n",
    "image_prediction.head()"
   ]
  },
  {
   "cell_type": "code",
   "execution_count": 25,
   "id": "03a929bf",
   "metadata": {},
   "outputs": [
    {
     "name": "stdout",
     "output_type": "stream",
     "text": [
      "<class 'pandas.core.frame.DataFrame'>\n",
      "RangeIndex: 2075 entries, 0 to 2074\n",
      "Data columns (total 12 columns):\n",
      " #   Column    Non-Null Count  Dtype  \n",
      "---  ------    --------------  -----  \n",
      " 0   tweet_id  2075 non-null   int64  \n",
      " 1   jpg_url   2075 non-null   object \n",
      " 2   img_num   2075 non-null   int64  \n",
      " 3   p1        2075 non-null   object \n",
      " 4   p1_conf   2075 non-null   float64\n",
      " 5   p1_dog    2075 non-null   bool   \n",
      " 6   p2        2075 non-null   object \n",
      " 7   p2_conf   2075 non-null   float64\n",
      " 8   p2_dog    2075 non-null   bool   \n",
      " 9   p3        2075 non-null   object \n",
      " 10  p3_conf   2075 non-null   float64\n",
      " 11  p3_dog    2075 non-null   bool   \n",
      "dtypes: bool(3), float64(3), int64(2), object(4)\n",
      "memory usage: 152.1+ KB\n"
     ]
    }
   ],
   "source": [
    "image_prediction.info()"
   ]
  },
  {
   "cell_type": "code",
   "execution_count": 26,
   "id": "7694663d",
   "metadata": {},
   "outputs": [
    {
     "data": {
      "text/plain": [
       "https://pbs.twimg.com/media/CZhn-QAWwAASQan.jpg                                            2\n",
       "https://pbs.twimg.com/media/Cq9guJ5WgAADfpF.jpg                                            2\n",
       "https://pbs.twimg.com/ext_tw_video_thumb/807106774843039744/pu/img/8XZg1xW35Xp2J6JW.jpg    2\n",
       "https://pbs.twimg.com/media/CU1zsMSUAAAS0qW.jpg                                            2\n",
       "https://pbs.twimg.com/media/CsrjryzWgAAZY00.jpg                                            2\n",
       "                                                                                          ..\n",
       "https://pbs.twimg.com/media/CXrmMSpUwAAdeRj.jpg                                            1\n",
       "https://pbs.twimg.com/media/CXrawAhWkAAWSxC.jpg                                            1\n",
       "https://pbs.twimg.com/media/CXrIntsUsAEkv0d.jpg                                            1\n",
       "https://pbs.twimg.com/media/CXqcOHCUQAAugTB.jpg                                            1\n",
       "https://pbs.twimg.com/media/DGKD1-bXoAAIAUK.jpg                                            1\n",
       "Name: jpg_url, Length: 2009, dtype: int64"
      ]
     },
     "execution_count": 26,
     "metadata": {},
     "output_type": "execute_result"
    }
   ],
   "source": [
    "#checking the image jpg_url column\n",
    "image_prediction.jpg_url.value_counts()"
   ]
  },
  {
   "cell_type": "markdown",
   "id": "7afd2cda",
   "metadata": {},
   "source": [
    "This shows that some of the url data are duplicated"
   ]
  },
  {
   "cell_type": "code",
   "execution_count": 27,
   "id": "02828f38",
   "metadata": {},
   "outputs": [
    {
     "data": {
      "text/html": [
       "<div>\n",
       "<style scoped>\n",
       "    .dataframe tbody tr th:only-of-type {\n",
       "        vertical-align: middle;\n",
       "    }\n",
       "\n",
       "    .dataframe tbody tr th {\n",
       "        vertical-align: top;\n",
       "    }\n",
       "\n",
       "    .dataframe thead th {\n",
       "        text-align: right;\n",
       "    }\n",
       "</style>\n",
       "<table border=\"1\" class=\"dataframe\">\n",
       "  <thead>\n",
       "    <tr style=\"text-align: right;\">\n",
       "      <th></th>\n",
       "      <th>tweet_id</th>\n",
       "      <th>jpg_url</th>\n",
       "      <th>img_num</th>\n",
       "      <th>p1</th>\n",
       "      <th>p1_conf</th>\n",
       "      <th>p1_dog</th>\n",
       "      <th>p2</th>\n",
       "      <th>p2_conf</th>\n",
       "      <th>p2_dog</th>\n",
       "      <th>p3</th>\n",
       "      <th>p3_conf</th>\n",
       "      <th>p3_dog</th>\n",
       "    </tr>\n",
       "  </thead>\n",
       "  <tbody>\n",
       "    <tr>\n",
       "      <th>1457</th>\n",
       "      <td>777684233540206592</td>\n",
       "      <td>https://pbs.twimg.com/media/CsrjryzWgAAZY00.jpg</td>\n",
       "      <td>1</td>\n",
       "      <td>cocker_spaniel</td>\n",
       "      <td>0.253442</td>\n",
       "      <td>True</td>\n",
       "      <td>golden_retriever</td>\n",
       "      <td>0.16285</td>\n",
       "      <td>True</td>\n",
       "      <td>otterhound</td>\n",
       "      <td>0.110921</td>\n",
       "      <td>True</td>\n",
       "    </tr>\n",
       "    <tr>\n",
       "      <th>1619</th>\n",
       "      <td>802624713319034886</td>\n",
       "      <td>https://pbs.twimg.com/media/CsrjryzWgAAZY00.jpg</td>\n",
       "      <td>1</td>\n",
       "      <td>cocker_spaniel</td>\n",
       "      <td>0.253442</td>\n",
       "      <td>True</td>\n",
       "      <td>golden_retriever</td>\n",
       "      <td>0.16285</td>\n",
       "      <td>True</td>\n",
       "      <td>otterhound</td>\n",
       "      <td>0.110921</td>\n",
       "      <td>True</td>\n",
       "    </tr>\n",
       "  </tbody>\n",
       "</table>\n",
       "</div>"
      ],
      "text/plain": [
       "                tweet_id                                          jpg_url  \\\n",
       "1457  777684233540206592  https://pbs.twimg.com/media/CsrjryzWgAAZY00.jpg   \n",
       "1619  802624713319034886  https://pbs.twimg.com/media/CsrjryzWgAAZY00.jpg   \n",
       "\n",
       "      img_num              p1   p1_conf  p1_dog                p2  p2_conf  \\\n",
       "1457        1  cocker_spaniel  0.253442    True  golden_retriever  0.16285   \n",
       "1619        1  cocker_spaniel  0.253442    True  golden_retriever  0.16285   \n",
       "\n",
       "      p2_dog          p3   p3_conf  p3_dog  \n",
       "1457    True  otterhound  0.110921    True  \n",
       "1619    True  otterhound  0.110921    True  "
      ]
     },
     "execution_count": 27,
     "metadata": {},
     "output_type": "execute_result"
    }
   ],
   "source": [
    "#checking to see the row data of any jpg_url that's duplicated\n",
    "image_prediction[image_prediction['jpg_url'] == 'https://pbs.twimg.com/media/CsrjryzWgAAZY00.jpg']"
   ]
  },
  {
   "cell_type": "code",
   "execution_count": 28,
   "id": "0fa5bede",
   "metadata": {},
   "outputs": [
    {
     "data": {
      "text/plain": [
       "1    1780\n",
       "2     198\n",
       "3      66\n",
       "4      31\n",
       "Name: img_num, dtype: int64"
      ]
     },
     "execution_count": 28,
     "metadata": {},
     "output_type": "execute_result"
    }
   ],
   "source": [
    "#checking the img_num column\n",
    "image_prediction.img_num.value_counts()"
   ]
  },
  {
   "cell_type": "markdown",
   "id": "a8b7c1b9",
   "metadata": {},
   "source": [
    "####  df_tweet file data frame"
   ]
  },
  {
   "cell_type": "code",
   "execution_count": 29,
   "id": "fee76167",
   "metadata": {},
   "outputs": [
    {
     "name": "stdout",
     "output_type": "stream",
     "text": [
      "<class 'pandas.core.frame.DataFrame'>\n",
      "RangeIndex: 2354 entries, 0 to 2353\n",
      "Data columns (total 3 columns):\n",
      " #   Column          Non-Null Count  Dtype\n",
      "---  ------          --------------  -----\n",
      " 0   tweet_id        2354 non-null   int64\n",
      " 1   retweet_count   2354 non-null   int64\n",
      " 2   favorite_count  2354 non-null   int64\n",
      "dtypes: int64(3)\n",
      "memory usage: 55.3 KB\n"
     ]
    }
   ],
   "source": [
    "# cheching df_tweet info\n",
    "df_tweet.info()"
   ]
  },
  {
   "cell_type": "code",
   "execution_count": 30,
   "id": "0d495583",
   "metadata": {},
   "outputs": [
    {
     "data": {
      "text/html": [
       "<div>\n",
       "<style scoped>\n",
       "    .dataframe tbody tr th:only-of-type {\n",
       "        vertical-align: middle;\n",
       "    }\n",
       "\n",
       "    .dataframe tbody tr th {\n",
       "        vertical-align: top;\n",
       "    }\n",
       "\n",
       "    .dataframe thead th {\n",
       "        text-align: right;\n",
       "    }\n",
       "</style>\n",
       "<table border=\"1\" class=\"dataframe\">\n",
       "  <thead>\n",
       "    <tr style=\"text-align: right;\">\n",
       "      <th></th>\n",
       "      <th>tweet_id</th>\n",
       "      <th>retweet_count</th>\n",
       "      <th>favorite_count</th>\n",
       "    </tr>\n",
       "  </thead>\n",
       "  <tbody>\n",
       "    <tr>\n",
       "      <th>0</th>\n",
       "      <td>892420643555336193</td>\n",
       "      <td>8853</td>\n",
       "      <td>39467</td>\n",
       "    </tr>\n",
       "    <tr>\n",
       "      <th>1</th>\n",
       "      <td>892177421306343426</td>\n",
       "      <td>6514</td>\n",
       "      <td>33819</td>\n",
       "    </tr>\n",
       "    <tr>\n",
       "      <th>2</th>\n",
       "      <td>891815181378084864</td>\n",
       "      <td>4328</td>\n",
       "      <td>25461</td>\n",
       "    </tr>\n",
       "    <tr>\n",
       "      <th>3</th>\n",
       "      <td>891689557279858688</td>\n",
       "      <td>8964</td>\n",
       "      <td>42908</td>\n",
       "    </tr>\n",
       "    <tr>\n",
       "      <th>4</th>\n",
       "      <td>891327558926688256</td>\n",
       "      <td>9774</td>\n",
       "      <td>41048</td>\n",
       "    </tr>\n",
       "  </tbody>\n",
       "</table>\n",
       "</div>"
      ],
      "text/plain": [
       "             tweet_id  retweet_count  favorite_count\n",
       "0  892420643555336193           8853           39467\n",
       "1  892177421306343426           6514           33819\n",
       "2  891815181378084864           4328           25461\n",
       "3  891689557279858688           8964           42908\n",
       "4  891327558926688256           9774           41048"
      ]
     },
     "execution_count": 30,
     "metadata": {},
     "output_type": "execute_result"
    }
   ],
   "source": [
    "#Programmatically assessing the df_tweet dataframe\n",
    "df_tweet.head()"
   ]
  },
  {
   "cell_type": "code",
   "execution_count": 31,
   "id": "c11be804",
   "metadata": {},
   "outputs": [
    {
     "data": {
      "text/html": [
       "<div>\n",
       "<style scoped>\n",
       "    .dataframe tbody tr th:only-of-type {\n",
       "        vertical-align: middle;\n",
       "    }\n",
       "\n",
       "    .dataframe tbody tr th {\n",
       "        vertical-align: top;\n",
       "    }\n",
       "\n",
       "    .dataframe thead th {\n",
       "        text-align: right;\n",
       "    }\n",
       "</style>\n",
       "<table border=\"1\" class=\"dataframe\">\n",
       "  <thead>\n",
       "    <tr style=\"text-align: right;\">\n",
       "      <th></th>\n",
       "      <th>tweet_id</th>\n",
       "      <th>retweet_count</th>\n",
       "      <th>favorite_count</th>\n",
       "    </tr>\n",
       "  </thead>\n",
       "  <tbody>\n",
       "    <tr>\n",
       "      <th>count</th>\n",
       "      <td>2.354000e+03</td>\n",
       "      <td>2354.000000</td>\n",
       "      <td>2354.000000</td>\n",
       "    </tr>\n",
       "    <tr>\n",
       "      <th>mean</th>\n",
       "      <td>7.426978e+17</td>\n",
       "      <td>3164.797366</td>\n",
       "      <td>8080.968564</td>\n",
       "    </tr>\n",
       "    <tr>\n",
       "      <th>std</th>\n",
       "      <td>6.852812e+16</td>\n",
       "      <td>5284.770364</td>\n",
       "      <td>11814.771334</td>\n",
       "    </tr>\n",
       "    <tr>\n",
       "      <th>min</th>\n",
       "      <td>6.660209e+17</td>\n",
       "      <td>0.000000</td>\n",
       "      <td>0.000000</td>\n",
       "    </tr>\n",
       "    <tr>\n",
       "      <th>25%</th>\n",
       "      <td>6.783975e+17</td>\n",
       "      <td>624.500000</td>\n",
       "      <td>1415.000000</td>\n",
       "    </tr>\n",
       "    <tr>\n",
       "      <th>50%</th>\n",
       "      <td>7.194596e+17</td>\n",
       "      <td>1473.500000</td>\n",
       "      <td>3603.500000</td>\n",
       "    </tr>\n",
       "    <tr>\n",
       "      <th>75%</th>\n",
       "      <td>7.993058e+17</td>\n",
       "      <td>3652.000000</td>\n",
       "      <td>10122.250000</td>\n",
       "    </tr>\n",
       "    <tr>\n",
       "      <th>max</th>\n",
       "      <td>8.924206e+17</td>\n",
       "      <td>79515.000000</td>\n",
       "      <td>132810.000000</td>\n",
       "    </tr>\n",
       "  </tbody>\n",
       "</table>\n",
       "</div>"
      ],
      "text/plain": [
       "           tweet_id  retweet_count  favorite_count\n",
       "count  2.354000e+03    2354.000000     2354.000000\n",
       "mean   7.426978e+17    3164.797366     8080.968564\n",
       "std    6.852812e+16    5284.770364    11814.771334\n",
       "min    6.660209e+17       0.000000        0.000000\n",
       "25%    6.783975e+17     624.500000     1415.000000\n",
       "50%    7.194596e+17    1473.500000     3603.500000\n",
       "75%    7.993058e+17    3652.000000    10122.250000\n",
       "max    8.924206e+17   79515.000000   132810.000000"
      ]
     },
     "execution_count": 31,
     "metadata": {},
     "output_type": "execute_result"
    }
   ],
   "source": [
    "# checking the data discriptions\n",
    "df_tweet.describe()"
   ]
  },
  {
   "cell_type": "code",
   "execution_count": 32,
   "id": "f900406c",
   "metadata": {},
   "outputs": [
    {
     "data": {
      "text/plain": [
       "0"
      ]
     },
     "execution_count": 32,
     "metadata": {},
     "output_type": "execute_result"
    }
   ],
   "source": [
    "#checking for null values in df_tweet\n",
    "sum(df_tweet.sum().isnull())"
   ]
  },
  {
   "cell_type": "markdown",
   "id": "16179a0c",
   "metadata": {},
   "source": [
    "### Quality issues on the data sets"
   ]
  },
  {
   "cell_type": "markdown",
   "id": "e0c47d75",
   "metadata": {},
   "source": [
    "* twitter-archive-enhanced.csv"
   ]
  },
  {
   "cell_type": "markdown",
   "id": "c12d7d73",
   "metadata": {},
   "source": [
    "1. Names column have invalid names like 'None', 'the','quite', 'a', 'an' etc. All valid names start with an uppercase letter, where as these were all lowercase.\n",
    "2. An object datatype was asign to timestamp column instead of datetime datatype.\n",
    "3. Retweets are present in the data frame which is not needed in our analysis since our concern is the original tweets and also Reply tweets are not “original tweets” either; this data is stored in the columns in_reply_to_status_id and in_reply_to_user_id.\n",
    "4. In most of the columns null values were represented as 'None' instead of NaN\n",
    "5. Some rows have thesame values in the expanded_url column.\n",
    "6. Tweet_ids are stored as integers instead of strings.\n",
    "7. Tweet source column has an entire link information and is not reader friendly. eg. instead of \"href=\"http://twitter.com/download/iphone\" rel=\"nofollow\"Twitter for iPhone\" as source, we need to have only Twitter for iPhone and changing the datatype to category"
   ]
  },
  {
   "cell_type": "markdown",
   "id": "92668c8d",
   "metadata": {},
   "source": [
    "* image-predictions.tsv\n",
    "\n",
    "1. Some tweet_ids have the same jpg_url."
   ]
  },
  {
   "cell_type": "markdown",
   "id": "e1e1ddb4",
   "metadata": {},
   "source": [
    " ### Tidiness issues\n",
    "* twitter-archive-enhanced.csv"
   ]
  },
  {
   "cell_type": "markdown",
   "id": "d40ff304",
   "metadata": {},
   "source": [
    "1. Dog categories (doggo, floofer, pupper, puppo) are spread in different columns.\n",
    "\n",
    "\n",
    "* image-predictions.tsv\n",
    "1. Breed Predictions, Confidence intervals and Dog texts are spread in three columns.\n",
    "\n",
    "\n",
    "* tweet-json.txt\n",
    "1. twitter_arc and df_tweet have similar information about the tweet made eg thesame tweet_id. they will be melge\n",
    "\n",
    "2. join all the data frames together using tweet_ids and performing general cleaning on the data\n",
    "\n"
   ]
  },
  {
   "cell_type": "markdown",
   "id": "be726288",
   "metadata": {},
   "source": [
    "## Data cleaning"
   ]
  },
  {
   "cell_type": "markdown",
   "id": "5892fb37",
   "metadata": {},
   "source": [
    "In this section all the observed Quality and tidiness issues in the data will be fixed"
   ]
  },
  {
   "cell_type": "code",
   "execution_count": 33,
   "id": "2ed64d4b",
   "metadata": {},
   "outputs": [],
   "source": [
    "# making a copy of the data sets\n",
    "twitter_arc_clean = twitter_arc.copy()\n",
    "image_prediction_clean = image_prediction.copy()\n",
    "df_tweet_clean = df_tweet.copy()"
   ]
  },
  {
   "cell_type": "markdown",
   "id": "8413734a",
   "metadata": {},
   "source": [
    "### Issue #1:  Names column have invalid names like 'None', 'the','quite', 'a', 'an' etc. All valid names start with an uppercase letter, where as these were all lowercase.\n",
    " #### Define \n",
    "  Write a for loop to asess the text column for the missing name of the dog and create a new name column to replace the old name column. Change names with words like 'a', 'an', 'such' to NAN values\n",
    "\n",
    "\n",
    "#### Code"
   ]
  },
  {
   "cell_type": "code",
   "execution_count": 34,
   "id": "9544b61b",
   "metadata": {},
   "outputs": [],
   "source": [
    "# Looping through the texts to check for the dog name that are inconsistent. \n",
    "#using some sentences that were found to come before the name in the text and check if it matches any of the  conditions\n",
    "# creating an empty list to append the result to\n",
    "names = []\n",
    "\n",
    "for text in twitter_arc_clean['text']:\n",
    "    # Start with 'This is ' and the first letter of the name is usually uppercase\n",
    "    if text.startswith('This is ') and re.match(r'[A-Z].*',text.split()[2]):\n",
    "        names.append(text.split()[2].strip(',').strip('.'))\n",
    "    # Start with 'Meet ' and the first letter of the name is usually uppercase\n",
    "    elif text.startswith('Meet ') and re.match(r'[A-Z].*', text.split()[1]):\n",
    "        names.append(text.split()[1].strip(',').strip('.'))\n",
    "    # Start with 'Say hello to ' and the first letter of the name is uppercase\n",
    "    elif text.startswith('Say hello to ') and re.match(r'[A-Z].*', text.split()[3]):\n",
    "        names.append(text.split()[3].strip(',').strip('.'))\n",
    "    # Start with 'His name is ' and the first letter of the name is uppercase\n",
    "    elif text.startswith('His name is ') and re.match(r'[A-Z].*', text.split()[3]):\n",
    "        names.append(text.split()[3].strip(',').strip('.'))\n",
    "    # Start with 'Here we have ' and the first letter of the name is uppercase\n",
    "    elif text.startswith('Here we have ') and re.match(r'[A-Z].*', text.split()[3]):\n",
    "        names.append(text.split()[3].strip(',').strip('.'))\n",
    "    # or Contains 'named' and the first letter of the name is uppercase\n",
    "    elif 'named' in text and re.match(r'[A-Z].*', text.split()[text.split().index('named') + 1]):\n",
    "        names.append(text.split()[text.split().index('named') + 1].strip(',').strip('.'))\n",
    "    # No name specified or other style\n",
    "    else:\n",
    "        names.append('NaN')\n",
    "\n",
    "# Test\n",
    "len(names)\n",
    "\n",
    "# Save result in a new column 'names'\n",
    "twitter_arc_clean['names'] = names"
   ]
  },
  {
   "cell_type": "code",
   "execution_count": 35,
   "id": "e0291123",
   "metadata": {},
   "outputs": [],
   "source": [
    "# using a for loop to iterate through the new name column for nan and using the existing name in the old name column to fill it\n",
    "a = twitter_arc_clean['name']\n",
    "b = twitter_arc_clean['names']\n",
    "index = a.index\n",
    "Names=b.values\n",
    "x=len(b)\n",
    "for i in range(0, x):\n",
    "    if Names[i] == 'NaN':\n",
    "        Names[i] = a[i]"
   ]
  },
  {
   "cell_type": "code",
   "execution_count": 36,
   "id": "0b8fd932",
   "metadata": {},
   "outputs": [],
   "source": [
    "#drop old column name \n",
    "twitter_arc_clean = twitter_arc_clean.drop('name', 1)"
   ]
  },
  {
   "cell_type": "code",
   "execution_count": 37,
   "id": "37c5ce93",
   "metadata": {},
   "outputs": [],
   "source": [
    "#replacing names like 'such', 'a' and 'an' with NAN\n",
    "twitter_arc_clean['names'].replace('such', np.NAN, inplace =True)\n",
    "twitter_arc_clean['names'].replace('None', np.NAN, inplace =True)\n",
    "twitter_arc_clean['names'].replace('a', np.NAN, inplace =True)\n",
    "twitter_arc_clean['names'].replace('an', np.NAN, inplace =True)\n",
    "twitter_arc_clean['names'].replace('the', np.NAN, inplace =True)"
   ]
  },
  {
   "cell_type": "markdown",
   "id": "7ade4573",
   "metadata": {},
   "source": [
    "### Test"
   ]
  },
  {
   "cell_type": "code",
   "execution_count": 38,
   "id": "bd21962c",
   "metadata": {},
   "outputs": [
    {
     "data": {
      "text/html": [
       "<div>\n",
       "<style scoped>\n",
       "    .dataframe tbody tr th:only-of-type {\n",
       "        vertical-align: middle;\n",
       "    }\n",
       "\n",
       "    .dataframe tbody tr th {\n",
       "        vertical-align: top;\n",
       "    }\n",
       "\n",
       "    .dataframe thead th {\n",
       "        text-align: right;\n",
       "    }\n",
       "</style>\n",
       "<table border=\"1\" class=\"dataframe\">\n",
       "  <thead>\n",
       "    <tr style=\"text-align: right;\">\n",
       "      <th></th>\n",
       "      <th>tweet_id</th>\n",
       "      <th>in_reply_to_status_id</th>\n",
       "      <th>in_reply_to_user_id</th>\n",
       "      <th>timestamp</th>\n",
       "      <th>source</th>\n",
       "      <th>text</th>\n",
       "      <th>retweeted_status_id</th>\n",
       "      <th>retweeted_status_user_id</th>\n",
       "      <th>retweeted_status_timestamp</th>\n",
       "      <th>expanded_urls</th>\n",
       "      <th>rating_numerator</th>\n",
       "      <th>rating_denominator</th>\n",
       "      <th>doggo</th>\n",
       "      <th>floofer</th>\n",
       "      <th>pupper</th>\n",
       "      <th>puppo</th>\n",
       "      <th>names</th>\n",
       "    </tr>\n",
       "  </thead>\n",
       "  <tbody>\n",
       "    <tr>\n",
       "      <th>13</th>\n",
       "      <td>889638837579907072</td>\n",
       "      <td>NaN</td>\n",
       "      <td>NaN</td>\n",
       "      <td>2017-07-25 00:10:02 +0000</td>\n",
       "      <td>&lt;a href=\"http://twitter.com/download/iphone\" r...</td>\n",
       "      <td>This is Ted. He does his best. Sometimes that'...</td>\n",
       "      <td>NaN</td>\n",
       "      <td>NaN</td>\n",
       "      <td>NaN</td>\n",
       "      <td>https://twitter.com/dog_rates/status/889638837...</td>\n",
       "      <td>12</td>\n",
       "      <td>10</td>\n",
       "      <td>None</td>\n",
       "      <td>None</td>\n",
       "      <td>None</td>\n",
       "      <td>None</td>\n",
       "      <td>Ted</td>\n",
       "    </tr>\n",
       "    <tr>\n",
       "      <th>654</th>\n",
       "      <td>791821351946420224</td>\n",
       "      <td>NaN</td>\n",
       "      <td>NaN</td>\n",
       "      <td>2016-10-28 01:58:16 +0000</td>\n",
       "      <td>&lt;a href=\"http://twitter.com/download/iphone\" r...</td>\n",
       "      <td>RT @dog_rates: This little fella really hates ...</td>\n",
       "      <td>6.848310e+17</td>\n",
       "      <td>4.196984e+09</td>\n",
       "      <td>2016-01-06 20:16:44 +0000</td>\n",
       "      <td>https://vine.co/v/eEZXZI1rqxX,https://vine.co/...</td>\n",
       "      <td>13</td>\n",
       "      <td>10</td>\n",
       "      <td>None</td>\n",
       "      <td>None</td>\n",
       "      <td>pupper</td>\n",
       "      <td>None</td>\n",
       "      <td>NaN</td>\n",
       "    </tr>\n",
       "    <tr>\n",
       "      <th>1464</th>\n",
       "      <td>694356675654983680</td>\n",
       "      <td>6.706684e+17</td>\n",
       "      <td>4.196984e+09</td>\n",
       "      <td>2016-02-02 03:08:26 +0000</td>\n",
       "      <td>&lt;a href=\"http://twitter.com/download/iphone\" r...</td>\n",
       "      <td>This pupper only appears through the hole of a...</td>\n",
       "      <td>NaN</td>\n",
       "      <td>NaN</td>\n",
       "      <td>NaN</td>\n",
       "      <td>https://twitter.com/dog_rates/status/694356675...</td>\n",
       "      <td>10</td>\n",
       "      <td>10</td>\n",
       "      <td>None</td>\n",
       "      <td>None</td>\n",
       "      <td>pupper</td>\n",
       "      <td>None</td>\n",
       "      <td>NaN</td>\n",
       "    </tr>\n",
       "    <tr>\n",
       "      <th>526</th>\n",
       "      <td>808838249661788160</td>\n",
       "      <td>NaN</td>\n",
       "      <td>NaN</td>\n",
       "      <td>2016-12-14 00:57:20 +0000</td>\n",
       "      <td>&lt;a href=\"http://twitter.com/download/iphone\" r...</td>\n",
       "      <td>This is Ito. He'll be your uber driver tonight...</td>\n",
       "      <td>NaN</td>\n",
       "      <td>NaN</td>\n",
       "      <td>NaN</td>\n",
       "      <td>https://twitter.com/dog_rates/status/808838249...</td>\n",
       "      <td>13</td>\n",
       "      <td>10</td>\n",
       "      <td>None</td>\n",
       "      <td>None</td>\n",
       "      <td>None</td>\n",
       "      <td>None</td>\n",
       "      <td>Ito</td>\n",
       "    </tr>\n",
       "    <tr>\n",
       "      <th>1404</th>\n",
       "      <td>699370870310113280</td>\n",
       "      <td>NaN</td>\n",
       "      <td>NaN</td>\n",
       "      <td>2016-02-15 23:13:03 +0000</td>\n",
       "      <td>&lt;a href=\"http://twitter.com/download/iphone\" r...</td>\n",
       "      <td>Say hello to Calbert. He doesn't have enough l...</td>\n",
       "      <td>NaN</td>\n",
       "      <td>NaN</td>\n",
       "      <td>NaN</td>\n",
       "      <td>https://twitter.com/dog_rates/status/699370870...</td>\n",
       "      <td>11</td>\n",
       "      <td>10</td>\n",
       "      <td>None</td>\n",
       "      <td>None</td>\n",
       "      <td>None</td>\n",
       "      <td>None</td>\n",
       "      <td>Calbert</td>\n",
       "    </tr>\n",
       "  </tbody>\n",
       "</table>\n",
       "</div>"
      ],
      "text/plain": [
       "                tweet_id  in_reply_to_status_id  in_reply_to_user_id  \\\n",
       "13    889638837579907072                    NaN                  NaN   \n",
       "654   791821351946420224                    NaN                  NaN   \n",
       "1464  694356675654983680           6.706684e+17         4.196984e+09   \n",
       "526   808838249661788160                    NaN                  NaN   \n",
       "1404  699370870310113280                    NaN                  NaN   \n",
       "\n",
       "                      timestamp  \\\n",
       "13    2017-07-25 00:10:02 +0000   \n",
       "654   2016-10-28 01:58:16 +0000   \n",
       "1464  2016-02-02 03:08:26 +0000   \n",
       "526   2016-12-14 00:57:20 +0000   \n",
       "1404  2016-02-15 23:13:03 +0000   \n",
       "\n",
       "                                                 source  \\\n",
       "13    <a href=\"http://twitter.com/download/iphone\" r...   \n",
       "654   <a href=\"http://twitter.com/download/iphone\" r...   \n",
       "1464  <a href=\"http://twitter.com/download/iphone\" r...   \n",
       "526   <a href=\"http://twitter.com/download/iphone\" r...   \n",
       "1404  <a href=\"http://twitter.com/download/iphone\" r...   \n",
       "\n",
       "                                                   text  retweeted_status_id  \\\n",
       "13    This is Ted. He does his best. Sometimes that'...                  NaN   \n",
       "654   RT @dog_rates: This little fella really hates ...         6.848310e+17   \n",
       "1464  This pupper only appears through the hole of a...                  NaN   \n",
       "526   This is Ito. He'll be your uber driver tonight...                  NaN   \n",
       "1404  Say hello to Calbert. He doesn't have enough l...                  NaN   \n",
       "\n",
       "      retweeted_status_user_id retweeted_status_timestamp  \\\n",
       "13                         NaN                        NaN   \n",
       "654               4.196984e+09  2016-01-06 20:16:44 +0000   \n",
       "1464                       NaN                        NaN   \n",
       "526                        NaN                        NaN   \n",
       "1404                       NaN                        NaN   \n",
       "\n",
       "                                          expanded_urls  rating_numerator  \\\n",
       "13    https://twitter.com/dog_rates/status/889638837...                12   \n",
       "654   https://vine.co/v/eEZXZI1rqxX,https://vine.co/...                13   \n",
       "1464  https://twitter.com/dog_rates/status/694356675...                10   \n",
       "526   https://twitter.com/dog_rates/status/808838249...                13   \n",
       "1404  https://twitter.com/dog_rates/status/699370870...                11   \n",
       "\n",
       "      rating_denominator doggo floofer  pupper puppo    names  \n",
       "13                    10  None    None    None  None      Ted  \n",
       "654                   10  None    None  pupper  None      NaN  \n",
       "1464                  10  None    None  pupper  None      NaN  \n",
       "526                   10  None    None    None  None      Ito  \n",
       "1404                  10  None    None    None  None  Calbert  "
      ]
     },
     "execution_count": 38,
     "metadata": {},
     "output_type": "execute_result"
    }
   ],
   "source": [
    "twitter_arc_clean.sample(5)"
   ]
  },
  {
   "cell_type": "code",
   "execution_count": 39,
   "id": "8665934b",
   "metadata": {},
   "outputs": [
    {
     "data": {
      "text/plain": [
       "789"
      ]
     },
     "execution_count": 39,
     "metadata": {},
     "output_type": "execute_result"
    }
   ],
   "source": [
    "#checking names with null values\n",
    "sum(twitter_arc_clean.names.isna())"
   ]
  },
  {
   "cell_type": "markdown",
   "id": "5a9c2f9c",
   "metadata": {},
   "source": [
    " ### Issue #2: An object datatype was asign to timestamp column instead of datetime datatype.\n",
    "\n",
    "\n",
    "#### Define: \n",
    "\n",
    "Convert timestamp column from object datatype to_datetime\n",
    "\n",
    "\n",
    "#### Code"
   ]
  },
  {
   "cell_type": "code",
   "execution_count": 40,
   "id": "5bb7206b",
   "metadata": {},
   "outputs": [],
   "source": [
    "# converting timestamp colomn datatype to datetime\n",
    "twitter_arc_clean['timestamp'] = pd.to_datetime(twitter_arc_clean['timestamp'])\n",
    "twitter_arc_clean['retweeted_status_timestamp'] = pd.to_datetime(twitter_arc_clean['retweeted_status_timestamp'])"
   ]
  },
  {
   "cell_type": "markdown",
   "id": "24480896",
   "metadata": {},
   "source": [
    "#### Test"
   ]
  },
  {
   "cell_type": "code",
   "execution_count": 41,
   "id": "e7cc7090",
   "metadata": {},
   "outputs": [
    {
     "name": "stdout",
     "output_type": "stream",
     "text": [
      "<class 'pandas.core.frame.DataFrame'>\n",
      "RangeIndex: 2356 entries, 0 to 2355\n",
      "Data columns (total 17 columns):\n",
      " #   Column                      Non-Null Count  Dtype              \n",
      "---  ------                      --------------  -----              \n",
      " 0   tweet_id                    2356 non-null   int64              \n",
      " 1   in_reply_to_status_id       78 non-null     float64            \n",
      " 2   in_reply_to_user_id         78 non-null     float64            \n",
      " 3   timestamp                   2356 non-null   datetime64[ns, UTC]\n",
      " 4   source                      2356 non-null   object             \n",
      " 5   text                        2356 non-null   object             \n",
      " 6   retweeted_status_id         181 non-null    float64            \n",
      " 7   retweeted_status_user_id    181 non-null    float64            \n",
      " 8   retweeted_status_timestamp  181 non-null    datetime64[ns, UTC]\n",
      " 9   expanded_urls               2297 non-null   object             \n",
      " 10  rating_numerator            2356 non-null   int64              \n",
      " 11  rating_denominator          2356 non-null   int64              \n",
      " 12  doggo                       2356 non-null   object             \n",
      " 13  floofer                     2356 non-null   object             \n",
      " 14  pupper                      2356 non-null   object             \n",
      " 15  puppo                       2356 non-null   object             \n",
      " 16  names                       1567 non-null   object             \n",
      "dtypes: datetime64[ns, UTC](2), float64(4), int64(3), object(8)\n",
      "memory usage: 313.0+ KB\n"
     ]
    }
   ],
   "source": [
    "twitter_arc_clean.info()"
   ]
  },
  {
   "cell_type": "markdown",
   "id": "fb680757",
   "metadata": {},
   "source": [
    "### Issue #3: Retweets are present in the data frame which is not needed in our analysis since our concern is the original tweets and also Reply tweets are not “original tweets” either; this data is stored in the columns in_reply_to_status_id and in_reply_to_user_id\n",
    "\n",
    "#### Define\n",
    "\n",
    "dropping retweets column from the dataset as we will be only concerned with the original tweets and \n",
    "also drop the retweeted_status_id, retweeted_status_user and retweeted_status_timestamp, in_reply_to_status_id and in_reply_to_user_id\n",
    "\n",
    "\n",
    "#### Code"
   ]
  },
  {
   "cell_type": "code",
   "execution_count": 42,
   "id": "2a36b267",
   "metadata": {},
   "outputs": [],
   "source": [
    "#remove the retweets and replies\n",
    "twitter_arc_clean = twitter_arc_clean[twitter_arc_clean.retweeted_status_id.isnull()]\n",
    "twitter_arc_clean = twitter_arc_clean[twitter_arc_clean.retweeted_status_user_id.isnull()]\n",
    "twitter_arc_clean = twitter_arc_clean[twitter_arc_clean.retweeted_status_timestamp.isnull()]\n",
    "twitter_arc_clean = twitter_arc_clean[twitter_arc_clean.in_reply_to_status_id.isnull()]\n",
    "twitter_arc_clean = twitter_arc_clean[twitter_arc_clean.in_reply_to_user_id.isnull()]\n"
   ]
  },
  {
   "cell_type": "code",
   "execution_count": 43,
   "id": "6a0c569b",
   "metadata": {},
   "outputs": [
    {
     "name": "stdout",
     "output_type": "stream",
     "text": [
      "<class 'pandas.core.frame.DataFrame'>\n",
      "Int64Index: 2097 entries, 0 to 2355\n",
      "Data columns (total 17 columns):\n",
      " #   Column                      Non-Null Count  Dtype              \n",
      "---  ------                      --------------  -----              \n",
      " 0   tweet_id                    2097 non-null   int64              \n",
      " 1   in_reply_to_status_id       0 non-null      float64            \n",
      " 2   in_reply_to_user_id         0 non-null      float64            \n",
      " 3   timestamp                   2097 non-null   datetime64[ns, UTC]\n",
      " 4   source                      2097 non-null   object             \n",
      " 5   text                        2097 non-null   object             \n",
      " 6   retweeted_status_id         0 non-null      float64            \n",
      " 7   retweeted_status_user_id    0 non-null      float64            \n",
      " 8   retweeted_status_timestamp  0 non-null      datetime64[ns, UTC]\n",
      " 9   expanded_urls               2094 non-null   object             \n",
      " 10  rating_numerator            2097 non-null   int64              \n",
      " 11  rating_denominator          2097 non-null   int64              \n",
      " 12  doggo                       2097 non-null   object             \n",
      " 13  floofer                     2097 non-null   object             \n",
      " 14  pupper                      2097 non-null   object             \n",
      " 15  puppo                       2097 non-null   object             \n",
      " 16  names                       1449 non-null   object             \n",
      "dtypes: datetime64[ns, UTC](2), float64(4), int64(3), object(8)\n",
      "memory usage: 294.9+ KB\n"
     ]
    }
   ],
   "source": [
    "twitter_arc_clean.info()"
   ]
  },
  {
   "cell_type": "code",
   "execution_count": 44,
   "id": "9e41b0c8",
   "metadata": {},
   "outputs": [],
   "source": [
    "twitter_arc_clean.drop(columns=['retweeted_status_id', \n",
    "                                'retweeted_status_user_id',\n",
    "                                'in_reply_to_status_id',\n",
    "                                'in_reply_to_user_id',\n",
    "                                'retweeted_status_timestamp'], inplace= True)"
   ]
  },
  {
   "cell_type": "markdown",
   "id": "c7b45e8e",
   "metadata": {},
   "source": [
    "### Test"
   ]
  },
  {
   "cell_type": "code",
   "execution_count": 45,
   "id": "d77023ed",
   "metadata": {},
   "outputs": [
    {
     "data": {
      "text/plain": [
       "['tweet_id',\n",
       " 'timestamp',\n",
       " 'source',\n",
       " 'text',\n",
       " 'expanded_urls',\n",
       " 'rating_numerator',\n",
       " 'rating_denominator',\n",
       " 'doggo',\n",
       " 'floofer',\n",
       " 'pupper',\n",
       " 'puppo',\n",
       " 'names']"
      ]
     },
     "execution_count": 45,
     "metadata": {},
     "output_type": "execute_result"
    }
   ],
   "source": [
    "list(twitter_arc_clean)"
   ]
  },
  {
   "cell_type": "code",
   "execution_count": 46,
   "id": "39182253",
   "metadata": {},
   "outputs": [
    {
     "name": "stdout",
     "output_type": "stream",
     "text": [
      "<class 'pandas.core.frame.DataFrame'>\n",
      "Int64Index: 2097 entries, 0 to 2355\n",
      "Data columns (total 12 columns):\n",
      " #   Column              Non-Null Count  Dtype              \n",
      "---  ------              --------------  -----              \n",
      " 0   tweet_id            2097 non-null   int64              \n",
      " 1   timestamp           2097 non-null   datetime64[ns, UTC]\n",
      " 2   source              2097 non-null   object             \n",
      " 3   text                2097 non-null   object             \n",
      " 4   expanded_urls       2094 non-null   object             \n",
      " 5   rating_numerator    2097 non-null   int64              \n",
      " 6   rating_denominator  2097 non-null   int64              \n",
      " 7   doggo               2097 non-null   object             \n",
      " 8   floofer             2097 non-null   object             \n",
      " 9   pupper              2097 non-null   object             \n",
      " 10  puppo               2097 non-null   object             \n",
      " 11  names               1449 non-null   object             \n",
      "dtypes: datetime64[ns, UTC](1), int64(3), object(8)\n",
      "memory usage: 213.0+ KB\n"
     ]
    }
   ],
   "source": [
    "twitter_arc_clean.info()"
   ]
  },
  {
   "cell_type": "markdown",
   "id": "fd4840a1",
   "metadata": {},
   "source": [
    "### Issue #4: In most of the columns null values were represented as 'None' instead of NaN"
   ]
  },
  {
   "cell_type": "markdown",
   "id": "b3d8c380",
   "metadata": {},
   "source": [
    "#### Define\n",
    "\n",
    "Changing values in twitter_arc_clean dataframe columns from None to NaN in name, doggo, floofer, pupper, puppo\n",
    "\n",
    "\n",
    "\n",
    "#### Code"
   ]
  },
  {
   "cell_type": "code",
   "execution_count": 47,
   "id": "85f57bfe",
   "metadata": {},
   "outputs": [],
   "source": [
    "twitter_arc_clean['names'].replace('None', np.NAN, inplace =True)\n",
    "twitter_arc_clean['doggo'].replace('None', np.NAN, inplace =True)\n",
    "twitter_arc_clean['floofer'].replace('None', np.NAN, inplace =True)\n",
    "twitter_arc_clean['pupper'].replace('None', np.NAN, inplace =True)\n",
    "twitter_arc_clean['puppo'].replace('None', np.NAN, inplace =True)"
   ]
  },
  {
   "cell_type": "markdown",
   "id": "2df6dc9f",
   "metadata": {},
   "source": [
    "### Issue #5: Some rows have thesame values in the expanded_urls\n",
    "\n",
    "####  Define\n",
    "Removing duplicated values from the expanded_urls\n",
    "\n",
    "####  Code"
   ]
  },
  {
   "cell_type": "code",
   "execution_count": 48,
   "id": "419bff1c",
   "metadata": {},
   "outputs": [],
   "source": [
    "twitter_arc_clean.drop_duplicates(subset= 'expanded_urls', inplace = True)"
   ]
  },
  {
   "cell_type": "markdown",
   "id": "444163e9",
   "metadata": {},
   "source": [
    "#### Test"
   ]
  },
  {
   "cell_type": "code",
   "execution_count": 49,
   "id": "fdac02eb",
   "metadata": {},
   "outputs": [
    {
     "data": {
      "text/plain": [
       "0"
      ]
     },
     "execution_count": 49,
     "metadata": {},
     "output_type": "execute_result"
    }
   ],
   "source": [
    "sum(twitter_arc_clean.expanded_urls.duplicated())"
   ]
  },
  {
   "cell_type": "markdown",
   "id": "b2ffccec",
   "metadata": {},
   "source": [
    "### Issue #6: Tweet_ids are stored as integers instead of strings.\n",
    "\n",
    "\n",
    "####  Define\n",
    "changing the tweet_id from int to string datatype\n",
    "####  Code"
   ]
  },
  {
   "cell_type": "code",
   "execution_count": 50,
   "id": "c380dfaa",
   "metadata": {},
   "outputs": [],
   "source": [
    "twitter_arc_clean['tweet_id'] = twitter_arc_clean['tweet_id'].astype(object)\n",
    "image_prediction_clean['tweet_id'] = image_prediction_clean['tweet_id'].astype(object)\n",
    "df_tweet_clean['tweet_id'] = df_tweet_clean['tweet_id'].astype(object)"
   ]
  },
  {
   "cell_type": "markdown",
   "id": "d38550bc",
   "metadata": {},
   "source": [
    "#### Test"
   ]
  },
  {
   "cell_type": "code",
   "execution_count": 51,
   "id": "57eccf2b",
   "metadata": {},
   "outputs": [
    {
     "name": "stdout",
     "output_type": "stream",
     "text": [
      "<class 'pandas.core.frame.DataFrame'>\n",
      "Int64Index: 2094 entries, 0 to 2355\n",
      "Data columns (total 12 columns):\n",
      " #   Column              Non-Null Count  Dtype              \n",
      "---  ------              --------------  -----              \n",
      " 0   tweet_id            2094 non-null   object             \n",
      " 1   timestamp           2094 non-null   datetime64[ns, UTC]\n",
      " 2   source              2094 non-null   object             \n",
      " 3   text                2094 non-null   object             \n",
      " 4   expanded_urls       2093 non-null   object             \n",
      " 5   rating_numerator    2094 non-null   int64              \n",
      " 6   rating_denominator  2094 non-null   int64              \n",
      " 7   doggo               83 non-null     object             \n",
      " 8   floofer             10 non-null     object             \n",
      " 9   pupper              229 non-null    object             \n",
      " 10  puppo               24 non-null     object             \n",
      " 11  names               1449 non-null   object             \n",
      "dtypes: datetime64[ns, UTC](1), int64(2), object(9)\n",
      "memory usage: 212.7+ KB\n"
     ]
    }
   ],
   "source": [
    "twitter_arc_clean.info()"
   ]
  },
  {
   "cell_type": "markdown",
   "id": "cb0afdd9",
   "metadata": {},
   "source": [
    "### Issue #7: Tweet source column has an entire link information and is not reader friendly. eg. instead of \"href=\"http://twitter.com/download/iphone\" rel=\"nofollow\"Twitter for iPhone\" as source, we need to have only Twitter for iPhone and changing the datatype to category\n",
    "\n",
    "\n",
    "#### Define\n",
    "\n",
    "Extract the tweet-source information from the source column. eg. so that it will only display **Twitter for iPhone**\n",
    "\n",
    "#### Code"
   ]
  },
  {
   "cell_type": "code",
   "execution_count": 52,
   "id": "92ca1612",
   "metadata": {},
   "outputs": [],
   "source": [
    "# Extracting the souce present at the end of each string\n",
    "twitter_arc_clean.source= twitter_arc_clean.source.str.split('>', expand= True)[1].str.split('</', expand= True)[0]"
   ]
  },
  {
   "cell_type": "code",
   "execution_count": 53,
   "id": "1855d444",
   "metadata": {},
   "outputs": [],
   "source": [
    "# changing the datatype to category\n",
    "twitter_arc_clean.source= twitter_arc_clean.source.astype('category')"
   ]
  },
  {
   "cell_type": "markdown",
   "id": "44249236",
   "metadata": {},
   "source": [
    "#### Test"
   ]
  },
  {
   "cell_type": "code",
   "execution_count": 54,
   "id": "ec4c649b",
   "metadata": {},
   "outputs": [
    {
     "data": {
      "text/plain": [
       "Twitter for iPhone     1962\n",
       "Vine - Make a Scene      90\n",
       "Twitter Web Client       31\n",
       "TweetDeck                11\n",
       "Name: source, dtype: int64"
      ]
     },
     "execution_count": 54,
     "metadata": {},
     "output_type": "execute_result"
    }
   ],
   "source": [
    "#checking for the changed source column\n",
    "twitter_arc_clean.source.value_counts()"
   ]
  },
  {
   "cell_type": "code",
   "execution_count": 55,
   "id": "20a80304",
   "metadata": {},
   "outputs": [
    {
     "data": {
      "text/html": [
       "<div>\n",
       "<style scoped>\n",
       "    .dataframe tbody tr th:only-of-type {\n",
       "        vertical-align: middle;\n",
       "    }\n",
       "\n",
       "    .dataframe tbody tr th {\n",
       "        vertical-align: top;\n",
       "    }\n",
       "\n",
       "    .dataframe thead th {\n",
       "        text-align: right;\n",
       "    }\n",
       "</style>\n",
       "<table border=\"1\" class=\"dataframe\">\n",
       "  <thead>\n",
       "    <tr style=\"text-align: right;\">\n",
       "      <th></th>\n",
       "      <th>tweet_id</th>\n",
       "      <th>timestamp</th>\n",
       "      <th>source</th>\n",
       "      <th>text</th>\n",
       "      <th>expanded_urls</th>\n",
       "      <th>rating_numerator</th>\n",
       "      <th>rating_denominator</th>\n",
       "      <th>doggo</th>\n",
       "      <th>floofer</th>\n",
       "      <th>pupper</th>\n",
       "      <th>puppo</th>\n",
       "      <th>names</th>\n",
       "    </tr>\n",
       "  </thead>\n",
       "  <tbody>\n",
       "    <tr>\n",
       "      <th>0</th>\n",
       "      <td>892420643555336193</td>\n",
       "      <td>2017-08-01 16:23:56+00:00</td>\n",
       "      <td>Twitter for iPhone</td>\n",
       "      <td>This is Phineas. He's a mystical boy. Only eve...</td>\n",
       "      <td>https://twitter.com/dog_rates/status/892420643...</td>\n",
       "      <td>13</td>\n",
       "      <td>10</td>\n",
       "      <td>NaN</td>\n",
       "      <td>NaN</td>\n",
       "      <td>NaN</td>\n",
       "      <td>NaN</td>\n",
       "      <td>Phineas</td>\n",
       "    </tr>\n",
       "    <tr>\n",
       "      <th>1</th>\n",
       "      <td>892177421306343426</td>\n",
       "      <td>2017-08-01 00:17:27+00:00</td>\n",
       "      <td>Twitter for iPhone</td>\n",
       "      <td>This is Tilly. She's just checking pup on you....</td>\n",
       "      <td>https://twitter.com/dog_rates/status/892177421...</td>\n",
       "      <td>13</td>\n",
       "      <td>10</td>\n",
       "      <td>NaN</td>\n",
       "      <td>NaN</td>\n",
       "      <td>NaN</td>\n",
       "      <td>NaN</td>\n",
       "      <td>Tilly</td>\n",
       "    </tr>\n",
       "    <tr>\n",
       "      <th>2</th>\n",
       "      <td>891815181378084864</td>\n",
       "      <td>2017-07-31 00:18:03+00:00</td>\n",
       "      <td>Twitter for iPhone</td>\n",
       "      <td>This is Archie. He is a rare Norwegian Pouncin...</td>\n",
       "      <td>https://twitter.com/dog_rates/status/891815181...</td>\n",
       "      <td>12</td>\n",
       "      <td>10</td>\n",
       "      <td>NaN</td>\n",
       "      <td>NaN</td>\n",
       "      <td>NaN</td>\n",
       "      <td>NaN</td>\n",
       "      <td>Archie</td>\n",
       "    </tr>\n",
       "    <tr>\n",
       "      <th>3</th>\n",
       "      <td>891689557279858688</td>\n",
       "      <td>2017-07-30 15:58:51+00:00</td>\n",
       "      <td>Twitter for iPhone</td>\n",
       "      <td>This is Darla. She commenced a snooze mid meal...</td>\n",
       "      <td>https://twitter.com/dog_rates/status/891689557...</td>\n",
       "      <td>13</td>\n",
       "      <td>10</td>\n",
       "      <td>NaN</td>\n",
       "      <td>NaN</td>\n",
       "      <td>NaN</td>\n",
       "      <td>NaN</td>\n",
       "      <td>Darla</td>\n",
       "    </tr>\n",
       "    <tr>\n",
       "      <th>4</th>\n",
       "      <td>891327558926688256</td>\n",
       "      <td>2017-07-29 16:00:24+00:00</td>\n",
       "      <td>Twitter for iPhone</td>\n",
       "      <td>This is Franklin. He would like you to stop ca...</td>\n",
       "      <td>https://twitter.com/dog_rates/status/891327558...</td>\n",
       "      <td>12</td>\n",
       "      <td>10</td>\n",
       "      <td>NaN</td>\n",
       "      <td>NaN</td>\n",
       "      <td>NaN</td>\n",
       "      <td>NaN</td>\n",
       "      <td>Franklin</td>\n",
       "    </tr>\n",
       "  </tbody>\n",
       "</table>\n",
       "</div>"
      ],
      "text/plain": [
       "             tweet_id                 timestamp              source  \\\n",
       "0  892420643555336193 2017-08-01 16:23:56+00:00  Twitter for iPhone   \n",
       "1  892177421306343426 2017-08-01 00:17:27+00:00  Twitter for iPhone   \n",
       "2  891815181378084864 2017-07-31 00:18:03+00:00  Twitter for iPhone   \n",
       "3  891689557279858688 2017-07-30 15:58:51+00:00  Twitter for iPhone   \n",
       "4  891327558926688256 2017-07-29 16:00:24+00:00  Twitter for iPhone   \n",
       "\n",
       "                                                text  \\\n",
       "0  This is Phineas. He's a mystical boy. Only eve...   \n",
       "1  This is Tilly. She's just checking pup on you....   \n",
       "2  This is Archie. He is a rare Norwegian Pouncin...   \n",
       "3  This is Darla. She commenced a snooze mid meal...   \n",
       "4  This is Franklin. He would like you to stop ca...   \n",
       "\n",
       "                                       expanded_urls  rating_numerator  \\\n",
       "0  https://twitter.com/dog_rates/status/892420643...                13   \n",
       "1  https://twitter.com/dog_rates/status/892177421...                13   \n",
       "2  https://twitter.com/dog_rates/status/891815181...                12   \n",
       "3  https://twitter.com/dog_rates/status/891689557...                13   \n",
       "4  https://twitter.com/dog_rates/status/891327558...                12   \n",
       "\n",
       "   rating_denominator doggo floofer pupper puppo     names  \n",
       "0                  10   NaN     NaN    NaN   NaN   Phineas  \n",
       "1                  10   NaN     NaN    NaN   NaN     Tilly  \n",
       "2                  10   NaN     NaN    NaN   NaN    Archie  \n",
       "3                  10   NaN     NaN    NaN   NaN     Darla  \n",
       "4                  10   NaN     NaN    NaN   NaN  Franklin  "
      ]
     },
     "execution_count": 55,
     "metadata": {},
     "output_type": "execute_result"
    }
   ],
   "source": [
    "twitter_arc_clean.head()"
   ]
  },
  {
   "cell_type": "code",
   "execution_count": 56,
   "id": "cff0e059",
   "metadata": {},
   "outputs": [
    {
     "name": "stdout",
     "output_type": "stream",
     "text": [
      "<class 'pandas.core.frame.DataFrame'>\n",
      "Int64Index: 2094 entries, 0 to 2355\n",
      "Data columns (total 12 columns):\n",
      " #   Column              Non-Null Count  Dtype              \n",
      "---  ------              --------------  -----              \n",
      " 0   tweet_id            2094 non-null   object             \n",
      " 1   timestamp           2094 non-null   datetime64[ns, UTC]\n",
      " 2   source              2094 non-null   category           \n",
      " 3   text                2094 non-null   object             \n",
      " 4   expanded_urls       2093 non-null   object             \n",
      " 5   rating_numerator    2094 non-null   int64              \n",
      " 6   rating_denominator  2094 non-null   int64              \n",
      " 7   doggo               83 non-null     object             \n",
      " 8   floofer             10 non-null     object             \n",
      " 9   pupper              229 non-null    object             \n",
      " 10  puppo               24 non-null     object             \n",
      " 11  names               1449 non-null   object             \n",
      "dtypes: category(1), datetime64[ns, UTC](1), int64(2), object(8)\n",
      "memory usage: 198.6+ KB\n"
     ]
    }
   ],
   "source": [
    "twitter_arc_clean.info()"
   ]
  },
  {
   "cell_type": "markdown",
   "id": "ea5a3a09",
   "metadata": {},
   "source": [
    "* image-predictions.tsv\n",
    "\n",
    "### Issue #8: Some tweet_ids have the same jpg_url.\n",
    "\n",
    "\n",
    " #### Define\n",
    "    \n",
    "  drop tweet_ids which have duplicate jpg_url\n",
    "    \n",
    "#### Code"
   ]
  },
  {
   "cell_type": "code",
   "execution_count": 57,
   "id": "7f84b885",
   "metadata": {},
   "outputs": [],
   "source": [
    "image_prediction_clean.drop_duplicates(subset ='jpg_url', inplace = True)"
   ]
  },
  {
   "cell_type": "markdown",
   "id": "3370015c",
   "metadata": {},
   "source": [
    "#### Test"
   ]
  },
  {
   "cell_type": "code",
   "execution_count": 58,
   "id": "caef07a7",
   "metadata": {},
   "outputs": [
    {
     "data": {
      "text/plain": [
       "0"
      ]
     },
     "execution_count": 58,
     "metadata": {},
     "output_type": "execute_result"
    }
   ],
   "source": [
    "sum(image_prediction_clean.jpg_url.duplicated())"
   ]
  },
  {
   "cell_type": "code",
   "execution_count": 59,
   "id": "150683cb",
   "metadata": {},
   "outputs": [
    {
     "name": "stdout",
     "output_type": "stream",
     "text": [
      "<class 'pandas.core.frame.DataFrame'>\n",
      "Int64Index: 2094 entries, 0 to 2355\n",
      "Data columns (total 12 columns):\n",
      " #   Column              Non-Null Count  Dtype              \n",
      "---  ------              --------------  -----              \n",
      " 0   tweet_id            2094 non-null   object             \n",
      " 1   timestamp           2094 non-null   datetime64[ns, UTC]\n",
      " 2   source              2094 non-null   category           \n",
      " 3   text                2094 non-null   object             \n",
      " 4   expanded_urls       2093 non-null   object             \n",
      " 5   rating_numerator    2094 non-null   int64              \n",
      " 6   rating_denominator  2094 non-null   int64              \n",
      " 7   doggo               83 non-null     object             \n",
      " 8   floofer             10 non-null     object             \n",
      " 9   pupper              229 non-null    object             \n",
      " 10  puppo               24 non-null     object             \n",
      " 11  names               1449 non-null   object             \n",
      "dtypes: category(1), datetime64[ns, UTC](1), int64(2), object(8)\n",
      "memory usage: 198.6+ KB\n"
     ]
    }
   ],
   "source": [
    "twitter_arc_clean.info()"
   ]
  },
  {
   "cell_type": "markdown",
   "id": "6ba0a296",
   "metadata": {},
   "source": [
    "### Tidiness issues\n",
    "* twitter-archive-enhanced.csv"
   ]
  },
  {
   "cell_type": "markdown",
   "id": "32d3602f",
   "metadata": {},
   "source": [
    "### Issue #1: Dog stages (doggo, floofer, pupper, puppo) are spread in different columns.\n",
    "\n",
    "\n",
    "#### define\n",
    "\n",
    "place the four dog categories (floofer,pupper,puppo,doggo) into a single column using melt method\n",
    "\n",
    "#### code"
   ]
  },
  {
   "cell_type": "code",
   "execution_count": 60,
   "id": "ce8cebf5",
   "metadata": {},
   "outputs": [],
   "source": [
    "#melting the columns\n",
    "twitter_arc_clean = pd.melt(twitter_arc_clean, id_vars=['tweet_id','timestamp', 'source','text','expanded_urls', 'rating_numerator', 'rating_denominator','names'],\n",
    "                         value_vars = ['doggo', 'floofer', 'pupper', 'puppo'], var_name='dog_categories', value_name='categories')\n",
    "twitter_arc_clean= twitter_arc_clean.drop('dog_categories', axis=1)\n",
    "twitter_arc_clean.categories.value_counts()\n",
    "#Filter for unique values then remove duplicate values based on 'categories' values count\n",
    "twitter_arc_clean = twitter_arc_clean.sort_values('categories').drop_duplicates('tweet_id', keep = 'first')"
   ]
  },
  {
   "cell_type": "markdown",
   "id": "8a9351a8",
   "metadata": {},
   "source": [
    "#### Test"
   ]
  },
  {
   "cell_type": "code",
   "execution_count": 61,
   "id": "0918f94e",
   "metadata": {},
   "outputs": [
    {
     "data": {
      "text/plain": [
       "pupper     220\n",
       "doggo       83\n",
       "puppo       23\n",
       "floofer      9\n",
       "Name: categories, dtype: int64"
      ]
     },
     "execution_count": 61,
     "metadata": {},
     "output_type": "execute_result"
    }
   ],
   "source": [
    "twitter_arc_clean.categories.value_counts()"
   ]
  },
  {
   "cell_type": "code",
   "execution_count": 62,
   "id": "93f62c07",
   "metadata": {},
   "outputs": [
    {
     "name": "stdout",
     "output_type": "stream",
     "text": [
      "<class 'pandas.core.frame.DataFrame'>\n",
      "Int64Index: 2094 entries, 9 to 2093\n",
      "Data columns (total 9 columns):\n",
      " #   Column              Non-Null Count  Dtype              \n",
      "---  ------              --------------  -----              \n",
      " 0   tweet_id            2094 non-null   object             \n",
      " 1   timestamp           2094 non-null   datetime64[ns, UTC]\n",
      " 2   source              2094 non-null   category           \n",
      " 3   text                2094 non-null   object             \n",
      " 4   expanded_urls       2093 non-null   object             \n",
      " 5   rating_numerator    2094 non-null   int64              \n",
      " 6   rating_denominator  2094 non-null   int64              \n",
      " 7   names               1449 non-null   object             \n",
      " 8   categories          335 non-null    object             \n",
      "dtypes: category(1), datetime64[ns, UTC](1), int64(2), object(5)\n",
      "memory usage: 149.5+ KB\n"
     ]
    }
   ],
   "source": [
    "twitter_arc_clean.info()"
   ]
  },
  {
   "cell_type": "markdown",
   "id": "b6a4707d",
   "metadata": {},
   "source": [
    "* tweet-json.txt\n",
    "\n",
    "### Issue #2: twitter_arc and df_tweet have similar information about the tweet made eg thesame tweet_id. they will be melge\n"
   ]
  },
  {
   "cell_type": "code",
   "execution_count": 63,
   "id": "a8436374",
   "metadata": {},
   "outputs": [],
   "source": [
    "twitter_arc_clean = pd.merge(twitter_arc_clean, df_tweet_clean, on = 'tweet_id', how = 'left')"
   ]
  },
  {
   "cell_type": "markdown",
   "id": "2fbdb844",
   "metadata": {},
   "source": [
    "#### Test"
   ]
  },
  {
   "cell_type": "code",
   "execution_count": 64,
   "id": "6e37bc31",
   "metadata": {},
   "outputs": [
    {
     "name": "stdout",
     "output_type": "stream",
     "text": [
      "<class 'pandas.core.frame.DataFrame'>\n",
      "Int64Index: 2094 entries, 0 to 2093\n",
      "Data columns (total 11 columns):\n",
      " #   Column              Non-Null Count  Dtype              \n",
      "---  ------              --------------  -----              \n",
      " 0   tweet_id            2094 non-null   object             \n",
      " 1   timestamp           2094 non-null   datetime64[ns, UTC]\n",
      " 2   source              2094 non-null   category           \n",
      " 3   text                2094 non-null   object             \n",
      " 4   expanded_urls       2093 non-null   object             \n",
      " 5   rating_numerator    2094 non-null   int64              \n",
      " 6   rating_denominator  2094 non-null   int64              \n",
      " 7   names               1449 non-null   object             \n",
      " 8   categories          335 non-null    object             \n",
      " 9   retweet_count       2094 non-null   int64              \n",
      " 10  favorite_count      2094 non-null   int64              \n",
      "dtypes: category(1), datetime64[ns, UTC](1), int64(4), object(5)\n",
      "memory usage: 182.2+ KB\n"
     ]
    }
   ],
   "source": [
    "twitter_arc_clean.info()"
   ]
  },
  {
   "cell_type": "markdown",
   "id": "9b043499",
   "metadata": {},
   "source": [
    "### Tidiness Issues"
   ]
  },
  {
   "cell_type": "markdown",
   "id": "3f89906d",
   "metadata": {},
   "source": [
    "* image-predictions.tsv"
   ]
  },
  {
   "cell_type": "markdown",
   "id": "e784a3b9",
   "metadata": {},
   "source": [
    "### Issue #1: Breed Predictions, Confidence intervals and Dog texts are spread in three columns\n",
    "\n",
    "\n",
    "#### Define\n",
    "\n",
    "Creating two new columns in image predictions dataframe called dog_breed and confidence by checking each dog breed prediction and copying the breed with the highest confidence level into the new breed column. Also, copy the associated confidence level into the new confidence column. For cases where all 3 predictions are False (NOT a valid dog breed), dog_breed will be set as NAN and confidence to 0 and previous multiple columns will be dropped\n",
    "\n",
    "#### Code"
   ]
  },
  {
   "cell_type": "code",
   "execution_count": 65,
   "id": "01cef68b",
   "metadata": {},
   "outputs": [],
   "source": [
    "# the conditions for selection when it is a dog\n",
    "conditions = [(image_prediction_clean['p1_dog'] == True),\n",
    "              (image_prediction_clean['p2_dog'] == True),\n",
    "              (image_prediction_clean['p3_dog'] == True)]\n",
    "\n",
    "# the choice order based on the selection conditions for predicted breed\n",
    "breeds = [image_prediction_clean['p1'], \n",
    "        image_prediction_clean['p2'],\n",
    "        image_prediction_clean['p3']]\n",
    "\n",
    "# the choice order for confidence level based on the selection conditions\n",
    "confidence_level = [image_prediction_clean['p1_conf'], \n",
    "                    image_prediction_clean['p2_conf'], \n",
    "                    image_prediction_clean['p3_conf']]\n",
    "\n",
    "# selecting the predicted dog breed based on the first successful condition and placing in new dog breed column\n",
    "image_prediction_clean['breed'] = np.select(conditions, breeds, default = 'none')\n",
    "\n",
    "\n",
    "# selecting the predicted confidence level based on the first successful condition and placing into new confidence column\n",
    "image_prediction_clean['confidence'] = np.select(conditions, confidence_level, default = 0)\n",
    "\n",
    "#droping previous prediction and confidence level columns\n",
    "\n",
    "image_prediction_clean.drop(columns=['p1', 'p1_conf','p1_dog','p2','p2_conf','p2_dog','p3','p3_conf','p3_dog'], inplace= True)"
   ]
  },
  {
   "cell_type": "code",
   "execution_count": 66,
   "id": "d0aa0104",
   "metadata": {},
   "outputs": [],
   "source": [
    "#replace none as NaN in dog breed \n",
    "image_prediction_clean['breed'].replace('none', np.NAN, inplace =True)\n",
    "\n",
    "# dropping NaN value from dog breed column\n",
    "image_prediction_clean.dropna(subset=['breed'], how = 'all',inplace= True)"
   ]
  },
  {
   "cell_type": "markdown",
   "id": "9189ab7a",
   "metadata": {},
   "source": [
    "#### Test"
   ]
  },
  {
   "cell_type": "code",
   "execution_count": 67,
   "id": "3b8f30b0",
   "metadata": {},
   "outputs": [
    {
     "name": "stdout",
     "output_type": "stream",
     "text": [
      "<class 'pandas.core.frame.DataFrame'>\n",
      "Int64Index: 1691 entries, 0 to 2073\n",
      "Data columns (total 5 columns):\n",
      " #   Column      Non-Null Count  Dtype  \n",
      "---  ------      --------------  -----  \n",
      " 0   tweet_id    1691 non-null   object \n",
      " 1   jpg_url     1691 non-null   object \n",
      " 2   img_num     1691 non-null   int64  \n",
      " 3   breed       1691 non-null   object \n",
      " 4   confidence  1691 non-null   float64\n",
      "dtypes: float64(1), int64(1), object(3)\n",
      "memory usage: 79.3+ KB\n"
     ]
    }
   ],
   "source": [
    "image_prediction_clean.info()"
   ]
  },
  {
   "cell_type": "markdown",
   "id": "9529b299",
   "metadata": {},
   "source": [
    "### Issue #3: join all the data frames together using tweet_ids\n",
    "\n",
    "### Define\n",
    " Merge twitter_arc_clean and image_prediction_clean data frame together using tweet_id and clean\n",
    "\n",
    "### Code"
   ]
  },
  {
   "cell_type": "code",
   "execution_count": 68,
   "id": "09d0943e",
   "metadata": {},
   "outputs": [],
   "source": [
    "#merging twitter_arc_clean and image_prediction_clean data frame\n",
    "all_tweets =pd.merge(twitter_arc_clean, image_prediction_clean,  on ='tweet_id', how = 'inner')"
   ]
  },
  {
   "cell_type": "code",
   "execution_count": 69,
   "id": "a6d6538c",
   "metadata": {},
   "outputs": [
    {
     "name": "stdout",
     "output_type": "stream",
     "text": [
      "<class 'pandas.core.frame.DataFrame'>\n",
      "Int64Index: 1666 entries, 0 to 1665\n",
      "Data columns (total 15 columns):\n",
      " #   Column              Non-Null Count  Dtype              \n",
      "---  ------              --------------  -----              \n",
      " 0   tweet_id            1666 non-null   object             \n",
      " 1   timestamp           1666 non-null   datetime64[ns, UTC]\n",
      " 2   source              1666 non-null   category           \n",
      " 3   text                1666 non-null   object             \n",
      " 4   expanded_urls       1666 non-null   object             \n",
      " 5   rating_numerator    1666 non-null   int64              \n",
      " 6   rating_denominator  1666 non-null   int64              \n",
      " 7   names               1231 non-null   object             \n",
      " 8   categories          257 non-null    object             \n",
      " 9   retweet_count       1666 non-null   int64              \n",
      " 10  favorite_count      1666 non-null   int64              \n",
      " 11  jpg_url             1666 non-null   object             \n",
      " 12  img_num             1666 non-null   int64              \n",
      " 13  breed               1666 non-null   object             \n",
      " 14  confidence          1666 non-null   float64            \n",
      "dtypes: category(1), datetime64[ns, UTC](1), float64(1), int64(5), object(7)\n",
      "memory usage: 197.1+ KB\n"
     ]
    }
   ],
   "source": [
    "all_tweets.info()"
   ]
  },
  {
   "cell_type": "code",
   "execution_count": 70,
   "id": "37e80126",
   "metadata": {},
   "outputs": [],
   "source": [
    "#dropping duplicates\n",
    "all_tweets = all_tweets.drop_duplicates()"
   ]
  },
  {
   "cell_type": "code",
   "execution_count": 71,
   "id": "f6e285fc",
   "metadata": {},
   "outputs": [
    {
     "data": {
      "text/html": [
       "<div>\n",
       "<style scoped>\n",
       "    .dataframe tbody tr th:only-of-type {\n",
       "        vertical-align: middle;\n",
       "    }\n",
       "\n",
       "    .dataframe tbody tr th {\n",
       "        vertical-align: top;\n",
       "    }\n",
       "\n",
       "    .dataframe thead th {\n",
       "        text-align: right;\n",
       "    }\n",
       "</style>\n",
       "<table border=\"1\" class=\"dataframe\">\n",
       "  <thead>\n",
       "    <tr style=\"text-align: right;\">\n",
       "      <th></th>\n",
       "      <th>tweet_id</th>\n",
       "      <th>timestamp</th>\n",
       "      <th>source</th>\n",
       "      <th>text</th>\n",
       "      <th>expanded_urls</th>\n",
       "      <th>rating_numerator</th>\n",
       "      <th>rating_denominator</th>\n",
       "      <th>names</th>\n",
       "      <th>categories</th>\n",
       "      <th>retweet_count</th>\n",
       "      <th>favorite_count</th>\n",
       "      <th>jpg_url</th>\n",
       "      <th>img_num</th>\n",
       "      <th>breed</th>\n",
       "      <th>confidence</th>\n",
       "    </tr>\n",
       "  </thead>\n",
       "  <tbody>\n",
       "    <tr>\n",
       "      <th>0</th>\n",
       "      <td>890240255349198849</td>\n",
       "      <td>2017-07-26 15:59:51+00:00</td>\n",
       "      <td>Twitter for iPhone</td>\n",
       "      <td>This is Cassie. She is a college pup. Studying...</td>\n",
       "      <td>https://twitter.com/dog_rates/status/890240255...</td>\n",
       "      <td>14</td>\n",
       "      <td>10</td>\n",
       "      <td>Cassie</td>\n",
       "      <td>doggo</td>\n",
       "      <td>7711</td>\n",
       "      <td>32467</td>\n",
       "      <td>https://pbs.twimg.com/media/DFrEyVuW0AAO3t9.jpg</td>\n",
       "      <td>1</td>\n",
       "      <td>Pembroke</td>\n",
       "      <td>0.511319</td>\n",
       "    </tr>\n",
       "    <tr>\n",
       "      <th>1</th>\n",
       "      <td>757393109802180609</td>\n",
       "      <td>2016-07-25 01:52:43+00:00</td>\n",
       "      <td>Twitter for iPhone</td>\n",
       "      <td>Here's a doggo completely oblivious to the dou...</td>\n",
       "      <td>https://twitter.com/dog_rates/status/757393109...</td>\n",
       "      <td>10</td>\n",
       "      <td>10</td>\n",
       "      <td>NaN</td>\n",
       "      <td>doggo</td>\n",
       "      <td>2009</td>\n",
       "      <td>6462</td>\n",
       "      <td>https://pbs.twimg.com/media/CoLNAq6WAAAkmdJ.jpg</td>\n",
       "      <td>2</td>\n",
       "      <td>Labrador_retriever</td>\n",
       "      <td>0.787125</td>\n",
       "    </tr>\n",
       "    <tr>\n",
       "      <th>2</th>\n",
       "      <td>758828659922702336</td>\n",
       "      <td>2016-07-29 00:57:05+00:00</td>\n",
       "      <td>Twitter for iPhone</td>\n",
       "      <td>This doggo is just waiting for someone to be p...</td>\n",
       "      <td>https://twitter.com/dog_rates/status/758828659...</td>\n",
       "      <td>13</td>\n",
       "      <td>10</td>\n",
       "      <td>NaN</td>\n",
       "      <td>doggo</td>\n",
       "      <td>4376</td>\n",
       "      <td>12376</td>\n",
       "      <td>https://pbs.twimg.com/media/Cofmom_VUAA4dRO.jpg</td>\n",
       "      <td>1</td>\n",
       "      <td>Chesapeake_Bay_retriever</td>\n",
       "      <td>0.480048</td>\n",
       "    </tr>\n",
       "    <tr>\n",
       "      <th>3</th>\n",
       "      <td>759793422261743616</td>\n",
       "      <td>2016-07-31 16:50:42+00:00</td>\n",
       "      <td>Twitter for iPhone</td>\n",
       "      <td>Meet Maggie &amp;amp; Lila. Maggie is the doggo, L...</td>\n",
       "      <td>https://twitter.com/dog_rates/status/759793422...</td>\n",
       "      <td>12</td>\n",
       "      <td>10</td>\n",
       "      <td>Maggie</td>\n",
       "      <td>doggo</td>\n",
       "      <td>2173</td>\n",
       "      <td>6620</td>\n",
       "      <td>https://pbs.twimg.com/media/CotUFZEWcAA2Pku.jpg</td>\n",
       "      <td>2</td>\n",
       "      <td>golden_retriever</td>\n",
       "      <td>0.985876</td>\n",
       "    </tr>\n",
       "    <tr>\n",
       "      <th>4</th>\n",
       "      <td>760893934457552897</td>\n",
       "      <td>2016-08-03 17:43:45+00:00</td>\n",
       "      <td>Twitter for iPhone</td>\n",
       "      <td>This is Wishes. He has the day off. Daily stru...</td>\n",
       "      <td>https://twitter.com/dog_rates/status/760893934...</td>\n",
       "      <td>11</td>\n",
       "      <td>10</td>\n",
       "      <td>Wishes</td>\n",
       "      <td>doggo</td>\n",
       "      <td>1104</td>\n",
       "      <td>4228</td>\n",
       "      <td>https://pbs.twimg.com/media/Co88_ujWEAErCg7.jpg</td>\n",
       "      <td>1</td>\n",
       "      <td>Blenheim_spaniel</td>\n",
       "      <td>0.113992</td>\n",
       "    </tr>\n",
       "  </tbody>\n",
       "</table>\n",
       "</div>"
      ],
      "text/plain": [
       "             tweet_id                 timestamp              source  \\\n",
       "0  890240255349198849 2017-07-26 15:59:51+00:00  Twitter for iPhone   \n",
       "1  757393109802180609 2016-07-25 01:52:43+00:00  Twitter for iPhone   \n",
       "2  758828659922702336 2016-07-29 00:57:05+00:00  Twitter for iPhone   \n",
       "3  759793422261743616 2016-07-31 16:50:42+00:00  Twitter for iPhone   \n",
       "4  760893934457552897 2016-08-03 17:43:45+00:00  Twitter for iPhone   \n",
       "\n",
       "                                                text  \\\n",
       "0  This is Cassie. She is a college pup. Studying...   \n",
       "1  Here's a doggo completely oblivious to the dou...   \n",
       "2  This doggo is just waiting for someone to be p...   \n",
       "3  Meet Maggie &amp; Lila. Maggie is the doggo, L...   \n",
       "4  This is Wishes. He has the day off. Daily stru...   \n",
       "\n",
       "                                       expanded_urls  rating_numerator  \\\n",
       "0  https://twitter.com/dog_rates/status/890240255...                14   \n",
       "1  https://twitter.com/dog_rates/status/757393109...                10   \n",
       "2  https://twitter.com/dog_rates/status/758828659...                13   \n",
       "3  https://twitter.com/dog_rates/status/759793422...                12   \n",
       "4  https://twitter.com/dog_rates/status/760893934...                11   \n",
       "\n",
       "   rating_denominator   names categories  retweet_count  favorite_count  \\\n",
       "0                  10  Cassie      doggo           7711           32467   \n",
       "1                  10     NaN      doggo           2009            6462   \n",
       "2                  10     NaN      doggo           4376           12376   \n",
       "3                  10  Maggie      doggo           2173            6620   \n",
       "4                  10  Wishes      doggo           1104            4228   \n",
       "\n",
       "                                           jpg_url  img_num  \\\n",
       "0  https://pbs.twimg.com/media/DFrEyVuW0AAO3t9.jpg        1   \n",
       "1  https://pbs.twimg.com/media/CoLNAq6WAAAkmdJ.jpg        2   \n",
       "2  https://pbs.twimg.com/media/Cofmom_VUAA4dRO.jpg        1   \n",
       "3  https://pbs.twimg.com/media/CotUFZEWcAA2Pku.jpg        2   \n",
       "4  https://pbs.twimg.com/media/Co88_ujWEAErCg7.jpg        1   \n",
       "\n",
       "                      breed  confidence  \n",
       "0                  Pembroke    0.511319  \n",
       "1        Labrador_retriever    0.787125  \n",
       "2  Chesapeake_Bay_retriever    0.480048  \n",
       "3          golden_retriever    0.985876  \n",
       "4          Blenheim_spaniel    0.113992  "
      ]
     },
     "execution_count": 71,
     "metadata": {},
     "output_type": "execute_result"
    }
   ],
   "source": [
    "all_tweets.head()"
   ]
  },
  {
   "cell_type": "code",
   "execution_count": 72,
   "id": "cf9b4f81",
   "metadata": {},
   "outputs": [],
   "source": [
    "#dropping expanded_urls and jpg_ur column \n",
    "all_tweets = all_tweets.drop('expanded_urls', axis = 1)"
   ]
  },
  {
   "cell_type": "code",
   "execution_count": 73,
   "id": "4f88a85b",
   "metadata": {},
   "outputs": [],
   "source": [
    "#create rating column\n",
    "all_tweets['rating'] = all_tweets['rating_numerator'].astype(str) + '/'+ all_tweets['rating_denominator'].astype(str)"
   ]
  },
  {
   "cell_type": "code",
   "execution_count": 74,
   "id": "36cfc7b0",
   "metadata": {},
   "outputs": [],
   "source": [
    "#drop columns\n",
    "all_tweets.drop(['rating_numerator', 'rating_denominator'], axis =1, inplace= True)"
   ]
  },
  {
   "cell_type": "code",
   "execution_count": 75,
   "id": "100a6ac6",
   "metadata": {},
   "outputs": [
    {
     "data": {
      "text/plain": [
       "['tweet_id',\n",
       " 'timestamp',\n",
       " 'source',\n",
       " 'text',\n",
       " 'names',\n",
       " 'categories',\n",
       " 'retweet_count',\n",
       " 'favorite_count',\n",
       " 'jpg_url',\n",
       " 'img_num',\n",
       " 'breed',\n",
       " 'confidence',\n",
       " 'rating']"
      ]
     },
     "execution_count": 75,
     "metadata": {},
     "output_type": "execute_result"
    }
   ],
   "source": [
    "# checking the columns names\n",
    "col_list = list(all_tweets.columns)\n",
    "col_list"
   ]
  },
  {
   "cell_type": "code",
   "execution_count": 89,
   "id": "11cb065a",
   "metadata": {},
   "outputs": [],
   "source": [
    "# rearranging the columns in desired orders\n",
    "col_list = ['tweet_id', 'timestamp', 'retweet_count', 'favorite_count',\n",
    "            'breed', 'confidence', 'names', 'categories', 'source', 'rating', 'img_num', 'text']\n",
    "\n",
    "all_tweets = all_tweets[col_list]"
   ]
  },
  {
   "cell_type": "code",
   "execution_count": 77,
   "id": "e9c3b50b",
   "metadata": {},
   "outputs": [
    {
     "data": {
      "text/html": [
       "<div>\n",
       "<style scoped>\n",
       "    .dataframe tbody tr th:only-of-type {\n",
       "        vertical-align: middle;\n",
       "    }\n",
       "\n",
       "    .dataframe tbody tr th {\n",
       "        vertical-align: top;\n",
       "    }\n",
       "\n",
       "    .dataframe thead th {\n",
       "        text-align: right;\n",
       "    }\n",
       "</style>\n",
       "<table border=\"1\" class=\"dataframe\">\n",
       "  <thead>\n",
       "    <tr style=\"text-align: right;\">\n",
       "      <th></th>\n",
       "      <th>tweet_id</th>\n",
       "      <th>timestamp</th>\n",
       "      <th>rating</th>\n",
       "      <th>retweet_count</th>\n",
       "      <th>favorite_count</th>\n",
       "      <th>breed</th>\n",
       "      <th>confidence</th>\n",
       "      <th>names</th>\n",
       "      <th>categories</th>\n",
       "      <th>source</th>\n",
       "      <th>img_num</th>\n",
       "      <th>text</th>\n",
       "    </tr>\n",
       "  </thead>\n",
       "  <tbody>\n",
       "    <tr>\n",
       "      <th>0</th>\n",
       "      <td>890240255349198849</td>\n",
       "      <td>2017-07-26 15:59:51+00:00</td>\n",
       "      <td>14/10</td>\n",
       "      <td>7711</td>\n",
       "      <td>32467</td>\n",
       "      <td>Pembroke</td>\n",
       "      <td>0.511319</td>\n",
       "      <td>Cassie</td>\n",
       "      <td>doggo</td>\n",
       "      <td>Twitter for iPhone</td>\n",
       "      <td>1</td>\n",
       "      <td>This is Cassie. She is a college pup. Studying...</td>\n",
       "    </tr>\n",
       "    <tr>\n",
       "      <th>1</th>\n",
       "      <td>757393109802180609</td>\n",
       "      <td>2016-07-25 01:52:43+00:00</td>\n",
       "      <td>10/10</td>\n",
       "      <td>2009</td>\n",
       "      <td>6462</td>\n",
       "      <td>Labrador_retriever</td>\n",
       "      <td>0.787125</td>\n",
       "      <td>NaN</td>\n",
       "      <td>doggo</td>\n",
       "      <td>Twitter for iPhone</td>\n",
       "      <td>2</td>\n",
       "      <td>Here's a doggo completely oblivious to the dou...</td>\n",
       "    </tr>\n",
       "    <tr>\n",
       "      <th>2</th>\n",
       "      <td>758828659922702336</td>\n",
       "      <td>2016-07-29 00:57:05+00:00</td>\n",
       "      <td>13/10</td>\n",
       "      <td>4376</td>\n",
       "      <td>12376</td>\n",
       "      <td>Chesapeake_Bay_retriever</td>\n",
       "      <td>0.480048</td>\n",
       "      <td>NaN</td>\n",
       "      <td>doggo</td>\n",
       "      <td>Twitter for iPhone</td>\n",
       "      <td>1</td>\n",
       "      <td>This doggo is just waiting for someone to be p...</td>\n",
       "    </tr>\n",
       "  </tbody>\n",
       "</table>\n",
       "</div>"
      ],
      "text/plain": [
       "             tweet_id                 timestamp rating  retweet_count  \\\n",
       "0  890240255349198849 2017-07-26 15:59:51+00:00  14/10           7711   \n",
       "1  757393109802180609 2016-07-25 01:52:43+00:00  10/10           2009   \n",
       "2  758828659922702336 2016-07-29 00:57:05+00:00  13/10           4376   \n",
       "\n",
       "   favorite_count                     breed  confidence   names categories  \\\n",
       "0           32467                  Pembroke    0.511319  Cassie      doggo   \n",
       "1            6462        Labrador_retriever    0.787125     NaN      doggo   \n",
       "2           12376  Chesapeake_Bay_retriever    0.480048     NaN      doggo   \n",
       "\n",
       "               source  img_num  \\\n",
       "0  Twitter for iPhone        1   \n",
       "1  Twitter for iPhone        2   \n",
       "2  Twitter for iPhone        1   \n",
       "\n",
       "                                                text  \n",
       "0  This is Cassie. She is a college pup. Studying...  \n",
       "1  Here's a doggo completely oblivious to the dou...  \n",
       "2  This doggo is just waiting for someone to be p...  "
      ]
     },
     "execution_count": 77,
     "metadata": {},
     "output_type": "execute_result"
    }
   ],
   "source": [
    "all_tweets.head(3)"
   ]
  },
  {
   "cell_type": "code",
   "execution_count": 78,
   "id": "76592fdc",
   "metadata": {},
   "outputs": [
    {
     "name": "stdout",
     "output_type": "stream",
     "text": [
      "<class 'pandas.core.frame.DataFrame'>\n",
      "Int64Index: 1666 entries, 0 to 1665\n",
      "Data columns (total 12 columns):\n",
      " #   Column          Non-Null Count  Dtype              \n",
      "---  ------          --------------  -----              \n",
      " 0   tweet_id        1666 non-null   object             \n",
      " 1   timestamp       1666 non-null   datetime64[ns, UTC]\n",
      " 2   rating          1666 non-null   object             \n",
      " 3   retweet_count   1666 non-null   int64              \n",
      " 4   favorite_count  1666 non-null   int64              \n",
      " 5   breed           1666 non-null   object             \n",
      " 6   confidence      1666 non-null   float64            \n",
      " 7   names           1231 non-null   object             \n",
      " 8   categories      257 non-null    object             \n",
      " 9   source          1666 non-null   category           \n",
      " 10  img_num         1666 non-null   int64              \n",
      " 11  text            1666 non-null   object             \n",
      "dtypes: category(1), datetime64[ns, UTC](1), float64(1), int64(3), object(6)\n",
      "memory usage: 158.0+ KB\n"
     ]
    }
   ],
   "source": [
    "all_tweets.info()"
   ]
  },
  {
   "cell_type": "code",
   "execution_count": 80,
   "id": "74e0113f",
   "metadata": {},
   "outputs": [],
   "source": [
    "# changing retweet_count,favorite_count and confidence datatypes to int.\n",
    "all_tweets['retweet_count'] = all_tweets['retweet_count'].apply(np.int64)\n",
    "all_tweets['favorite_count'] = all_tweets['favorite_count'].apply(np.int64)"
   ]
  },
  {
   "cell_type": "code",
   "execution_count": 81,
   "id": "85c57ad1",
   "metadata": {},
   "outputs": [
    {
     "name": "stdout",
     "output_type": "stream",
     "text": [
      "<class 'pandas.core.frame.DataFrame'>\n",
      "Int64Index: 1666 entries, 0 to 1665\n",
      "Data columns (total 12 columns):\n",
      " #   Column          Non-Null Count  Dtype              \n",
      "---  ------          --------------  -----              \n",
      " 0   tweet_id        1666 non-null   object             \n",
      " 1   timestamp       1666 non-null   datetime64[ns, UTC]\n",
      " 2   rating          1666 non-null   object             \n",
      " 3   retweet_count   1666 non-null   int64              \n",
      " 4   favorite_count  1666 non-null   int64              \n",
      " 5   breed           1666 non-null   object             \n",
      " 6   confidence      1666 non-null   float64            \n",
      " 7   names           1231 non-null   object             \n",
      " 8   categories      257 non-null    object             \n",
      " 9   source          1666 non-null   category           \n",
      " 10  img_num         1666 non-null   int64              \n",
      " 11  text            1666 non-null   object             \n",
      "dtypes: category(1), datetime64[ns, UTC](1), float64(1), int64(3), object(6)\n",
      "memory usage: 158.0+ KB\n"
     ]
    }
   ],
   "source": [
    "# checking\n",
    "all_tweets.info()"
   ]
  },
  {
   "cell_type": "markdown",
   "id": "6cce3337",
   "metadata": {},
   "source": [
    "## Storing the data\n",
    "\n",
    "\n",
    "Exporting the all_tweets dataframe to a csv file called 'twitter_archive_master.csv'"
   ]
  },
  {
   "cell_type": "code",
   "execution_count": 82,
   "id": "d4aca7c3",
   "metadata": {},
   "outputs": [],
   "source": [
    "#Storing the all_tweets dataset into a csv file\n",
    "all_tweets.to_csv('twitter_archive_master.csv', index=False )"
   ]
  },
  {
   "cell_type": "markdown",
   "id": "6f8ac0e1",
   "metadata": {},
   "source": [
    "## Data Analysis and Visualization"
   ]
  },
  {
   "cell_type": "markdown",
   "id": "3900cf75",
   "metadata": {},
   "source": [
    "In this section the data will be analysed using the cleaned master_data to draw an insight "
   ]
  },
  {
   "cell_type": "markdown",
   "id": "17378292",
   "metadata": {},
   "source": [
    "### Insights"
   ]
  },
  {
   "cell_type": "markdown",
   "id": "4720fed2",
   "metadata": {},
   "source": [
    "1. What are the most common dog names\n",
    "2. what is the correlation between retweets and favorites\n",
    "3. which breeds has the most retweet_count\n",
    "4. What is the most common dog breed\n",
    "5. What are the most common tweet sources\n",
    "6. Which  dog categories are the most common?\n",
    "7. Which breeds of dog has the highest overall favourite counts\n"
   ]
  },
  {
   "cell_type": "code",
   "execution_count": 83,
   "id": "61dbdd31",
   "metadata": {},
   "outputs": [],
   "source": [
    "all_tweets = all_tweets.copy()"
   ]
  },
  {
   "cell_type": "code",
   "execution_count": 84,
   "id": "885a8160",
   "metadata": {},
   "outputs": [
    {
     "name": "stdout",
     "output_type": "stream",
     "text": [
      "<class 'pandas.core.frame.DataFrame'>\n",
      "Int64Index: 1666 entries, 0 to 1665\n",
      "Data columns (total 12 columns):\n",
      " #   Column          Non-Null Count  Dtype              \n",
      "---  ------          --------------  -----              \n",
      " 0   tweet_id        1666 non-null   object             \n",
      " 1   timestamp       1666 non-null   datetime64[ns, UTC]\n",
      " 2   rating          1666 non-null   object             \n",
      " 3   retweet_count   1666 non-null   int64              \n",
      " 4   favorite_count  1666 non-null   int64              \n",
      " 5   breed           1666 non-null   object             \n",
      " 6   confidence      1666 non-null   float64            \n",
      " 7   names           1231 non-null   object             \n",
      " 8   categories      257 non-null    object             \n",
      " 9   source          1666 non-null   category           \n",
      " 10  img_num         1666 non-null   int64              \n",
      " 11  text            1666 non-null   object             \n",
      "dtypes: category(1), datetime64[ns, UTC](1), float64(1), int64(3), object(6)\n",
      "memory usage: 158.0+ KB\n"
     ]
    }
   ],
   "source": [
    "all_tweets.info()"
   ]
  },
  {
   "cell_type": "code",
   "execution_count": 85,
   "id": "77e163c1",
   "metadata": {},
   "outputs": [
    {
     "data": {
      "text/html": [
       "<div>\n",
       "<style scoped>\n",
       "    .dataframe tbody tr th:only-of-type {\n",
       "        vertical-align: middle;\n",
       "    }\n",
       "\n",
       "    .dataframe tbody tr th {\n",
       "        vertical-align: top;\n",
       "    }\n",
       "\n",
       "    .dataframe thead th {\n",
       "        text-align: right;\n",
       "    }\n",
       "</style>\n",
       "<table border=\"1\" class=\"dataframe\">\n",
       "  <thead>\n",
       "    <tr style=\"text-align: right;\">\n",
       "      <th></th>\n",
       "      <th>retweet_count</th>\n",
       "      <th>favorite_count</th>\n",
       "      <th>confidence</th>\n",
       "      <th>img_num</th>\n",
       "    </tr>\n",
       "  </thead>\n",
       "  <tbody>\n",
       "    <tr>\n",
       "      <th>count</th>\n",
       "      <td>1666.000000</td>\n",
       "      <td>1666.000000</td>\n",
       "      <td>1666.000000</td>\n",
       "      <td>1666.000000</td>\n",
       "    </tr>\n",
       "    <tr>\n",
       "      <th>mean</th>\n",
       "      <td>2834.429772</td>\n",
       "      <td>9288.184274</td>\n",
       "      <td>0.551571</td>\n",
       "      <td>1.214286</td>\n",
       "    </tr>\n",
       "    <tr>\n",
       "      <th>std</th>\n",
       "      <td>4831.960790</td>\n",
       "      <td>12641.538890</td>\n",
       "      <td>0.298923</td>\n",
       "      <td>0.573959</td>\n",
       "    </tr>\n",
       "    <tr>\n",
       "      <th>min</th>\n",
       "      <td>16.000000</td>\n",
       "      <td>81.000000</td>\n",
       "      <td>0.000010</td>\n",
       "      <td>1.000000</td>\n",
       "    </tr>\n",
       "    <tr>\n",
       "      <th>25%</th>\n",
       "      <td>650.500000</td>\n",
       "      <td>2176.000000</td>\n",
       "      <td>0.305955</td>\n",
       "      <td>1.000000</td>\n",
       "    </tr>\n",
       "    <tr>\n",
       "      <th>50%</th>\n",
       "      <td>1440.500000</td>\n",
       "      <td>4464.000000</td>\n",
       "      <td>0.550914</td>\n",
       "      <td>1.000000</td>\n",
       "    </tr>\n",
       "    <tr>\n",
       "      <th>75%</th>\n",
       "      <td>3261.000000</td>\n",
       "      <td>11734.750000</td>\n",
       "      <td>0.822939</td>\n",
       "      <td>1.000000</td>\n",
       "    </tr>\n",
       "    <tr>\n",
       "      <th>max</th>\n",
       "      <td>79515.000000</td>\n",
       "      <td>132810.000000</td>\n",
       "      <td>0.999956</td>\n",
       "      <td>4.000000</td>\n",
       "    </tr>\n",
       "  </tbody>\n",
       "</table>\n",
       "</div>"
      ],
      "text/plain": [
       "       retweet_count  favorite_count   confidence      img_num\n",
       "count    1666.000000     1666.000000  1666.000000  1666.000000\n",
       "mean     2834.429772     9288.184274     0.551571     1.214286\n",
       "std      4831.960790    12641.538890     0.298923     0.573959\n",
       "min        16.000000       81.000000     0.000010     1.000000\n",
       "25%       650.500000     2176.000000     0.305955     1.000000\n",
       "50%      1440.500000     4464.000000     0.550914     1.000000\n",
       "75%      3261.000000    11734.750000     0.822939     1.000000\n",
       "max     79515.000000   132810.000000     0.999956     4.000000"
      ]
     },
     "execution_count": 85,
     "metadata": {},
     "output_type": "execute_result"
    }
   ],
   "source": [
    "all_tweets.describe()"
   ]
  },
  {
   "cell_type": "code",
   "execution_count": 86,
   "id": "ab1ffbc6",
   "metadata": {},
   "outputs": [
    {
     "data": {
      "text/html": [
       "<div>\n",
       "<style scoped>\n",
       "    .dataframe tbody tr th:only-of-type {\n",
       "        vertical-align: middle;\n",
       "    }\n",
       "\n",
       "    .dataframe tbody tr th {\n",
       "        vertical-align: top;\n",
       "    }\n",
       "\n",
       "    .dataframe thead th {\n",
       "        text-align: right;\n",
       "    }\n",
       "</style>\n",
       "<table border=\"1\" class=\"dataframe\">\n",
       "  <thead>\n",
       "    <tr style=\"text-align: right;\">\n",
       "      <th></th>\n",
       "      <th>tweet_id</th>\n",
       "      <th>timestamp</th>\n",
       "      <th>rating</th>\n",
       "      <th>retweet_count</th>\n",
       "      <th>favorite_count</th>\n",
       "      <th>breed</th>\n",
       "      <th>confidence</th>\n",
       "      <th>names</th>\n",
       "      <th>categories</th>\n",
       "      <th>source</th>\n",
       "      <th>img_num</th>\n",
       "      <th>text</th>\n",
       "    </tr>\n",
       "  </thead>\n",
       "  <tbody>\n",
       "    <tr>\n",
       "      <th>0</th>\n",
       "      <td>890240255349198849</td>\n",
       "      <td>2017-07-26 15:59:51+00:00</td>\n",
       "      <td>14/10</td>\n",
       "      <td>7711</td>\n",
       "      <td>32467</td>\n",
       "      <td>Pembroke</td>\n",
       "      <td>0.511319</td>\n",
       "      <td>Cassie</td>\n",
       "      <td>doggo</td>\n",
       "      <td>Twitter for iPhone</td>\n",
       "      <td>1</td>\n",
       "      <td>This is Cassie. She is a college pup. Studying...</td>\n",
       "    </tr>\n",
       "    <tr>\n",
       "      <th>1</th>\n",
       "      <td>757393109802180609</td>\n",
       "      <td>2016-07-25 01:52:43+00:00</td>\n",
       "      <td>10/10</td>\n",
       "      <td>2009</td>\n",
       "      <td>6462</td>\n",
       "      <td>Labrador_retriever</td>\n",
       "      <td>0.787125</td>\n",
       "      <td>NaN</td>\n",
       "      <td>doggo</td>\n",
       "      <td>Twitter for iPhone</td>\n",
       "      <td>2</td>\n",
       "      <td>Here's a doggo completely oblivious to the dou...</td>\n",
       "    </tr>\n",
       "    <tr>\n",
       "      <th>2</th>\n",
       "      <td>758828659922702336</td>\n",
       "      <td>2016-07-29 00:57:05+00:00</td>\n",
       "      <td>13/10</td>\n",
       "      <td>4376</td>\n",
       "      <td>12376</td>\n",
       "      <td>Chesapeake_Bay_retriever</td>\n",
       "      <td>0.480048</td>\n",
       "      <td>NaN</td>\n",
       "      <td>doggo</td>\n",
       "      <td>Twitter for iPhone</td>\n",
       "      <td>1</td>\n",
       "      <td>This doggo is just waiting for someone to be p...</td>\n",
       "    </tr>\n",
       "    <tr>\n",
       "      <th>3</th>\n",
       "      <td>759793422261743616</td>\n",
       "      <td>2016-07-31 16:50:42+00:00</td>\n",
       "      <td>12/10</td>\n",
       "      <td>2173</td>\n",
       "      <td>6620</td>\n",
       "      <td>golden_retriever</td>\n",
       "      <td>0.985876</td>\n",
       "      <td>Maggie</td>\n",
       "      <td>doggo</td>\n",
       "      <td>Twitter for iPhone</td>\n",
       "      <td>2</td>\n",
       "      <td>Meet Maggie &amp;amp; Lila. Maggie is the doggo, L...</td>\n",
       "    </tr>\n",
       "    <tr>\n",
       "      <th>4</th>\n",
       "      <td>760893934457552897</td>\n",
       "      <td>2016-08-03 17:43:45+00:00</td>\n",
       "      <td>11/10</td>\n",
       "      <td>1104</td>\n",
       "      <td>4228</td>\n",
       "      <td>Blenheim_spaniel</td>\n",
       "      <td>0.113992</td>\n",
       "      <td>Wishes</td>\n",
       "      <td>doggo</td>\n",
       "      <td>Twitter for iPhone</td>\n",
       "      <td>1</td>\n",
       "      <td>This is Wishes. He has the day off. Daily stru...</td>\n",
       "    </tr>\n",
       "  </tbody>\n",
       "</table>\n",
       "</div>"
      ],
      "text/plain": [
       "             tweet_id                 timestamp rating  retweet_count  \\\n",
       "0  890240255349198849 2017-07-26 15:59:51+00:00  14/10           7711   \n",
       "1  757393109802180609 2016-07-25 01:52:43+00:00  10/10           2009   \n",
       "2  758828659922702336 2016-07-29 00:57:05+00:00  13/10           4376   \n",
       "3  759793422261743616 2016-07-31 16:50:42+00:00  12/10           2173   \n",
       "4  760893934457552897 2016-08-03 17:43:45+00:00  11/10           1104   \n",
       "\n",
       "   favorite_count                     breed  confidence   names categories  \\\n",
       "0           32467                  Pembroke    0.511319  Cassie      doggo   \n",
       "1            6462        Labrador_retriever    0.787125     NaN      doggo   \n",
       "2           12376  Chesapeake_Bay_retriever    0.480048     NaN      doggo   \n",
       "3            6620          golden_retriever    0.985876  Maggie      doggo   \n",
       "4            4228          Blenheim_spaniel    0.113992  Wishes      doggo   \n",
       "\n",
       "               source  img_num  \\\n",
       "0  Twitter for iPhone        1   \n",
       "1  Twitter for iPhone        2   \n",
       "2  Twitter for iPhone        1   \n",
       "3  Twitter for iPhone        2   \n",
       "4  Twitter for iPhone        1   \n",
       "\n",
       "                                                text  \n",
       "0  This is Cassie. She is a college pup. Studying...  \n",
       "1  Here's a doggo completely oblivious to the dou...  \n",
       "2  This doggo is just waiting for someone to be p...  \n",
       "3  Meet Maggie &amp; Lila. Maggie is the doggo, L...  \n",
       "4  This is Wishes. He has the day off. Daily stru...  "
      ]
     },
     "execution_count": 86,
     "metadata": {},
     "output_type": "execute_result"
    }
   ],
   "source": [
    "all_tweets.head()"
   ]
  },
  {
   "cell_type": "code",
   "execution_count": 87,
   "id": "67ac08e9",
   "metadata": {},
   "outputs": [
    {
     "data": {
      "text/html": [
       "<div>\n",
       "<style scoped>\n",
       "    .dataframe tbody tr th:only-of-type {\n",
       "        vertical-align: middle;\n",
       "    }\n",
       "\n",
       "    .dataframe tbody tr th {\n",
       "        vertical-align: top;\n",
       "    }\n",
       "\n",
       "    .dataframe thead th {\n",
       "        text-align: right;\n",
       "    }\n",
       "</style>\n",
       "<table border=\"1\" class=\"dataframe\">\n",
       "  <thead>\n",
       "    <tr style=\"text-align: right;\">\n",
       "      <th></th>\n",
       "      <th>tweet_id</th>\n",
       "      <th>timestamp</th>\n",
       "      <th>rating</th>\n",
       "      <th>retweet_count</th>\n",
       "      <th>favorite_count</th>\n",
       "      <th>breed</th>\n",
       "      <th>confidence</th>\n",
       "      <th>names</th>\n",
       "      <th>categories</th>\n",
       "      <th>source</th>\n",
       "      <th>img_num</th>\n",
       "      <th>text</th>\n",
       "    </tr>\n",
       "  </thead>\n",
       "  <tbody>\n",
       "    <tr>\n",
       "      <th>1661</th>\n",
       "      <td>666049248165822465</td>\n",
       "      <td>2015-11-16 00:24:50+00:00</td>\n",
       "      <td>5/10</td>\n",
       "      <td>41</td>\n",
       "      <td>111</td>\n",
       "      <td>miniature_pinscher</td>\n",
       "      <td>0.560311</td>\n",
       "      <td>NaN</td>\n",
       "      <td>NaN</td>\n",
       "      <td>Twitter for iPhone</td>\n",
       "      <td>1</td>\n",
       "      <td>Here we have a 1949 1st generation vulpix. Enj...</td>\n",
       "    </tr>\n",
       "    <tr>\n",
       "      <th>1662</th>\n",
       "      <td>666044226329800704</td>\n",
       "      <td>2015-11-16 00:04:52+00:00</td>\n",
       "      <td>6/10</td>\n",
       "      <td>147</td>\n",
       "      <td>311</td>\n",
       "      <td>Rhodesian_ridgeback</td>\n",
       "      <td>0.408143</td>\n",
       "      <td>NaN</td>\n",
       "      <td>NaN</td>\n",
       "      <td>Twitter for iPhone</td>\n",
       "      <td>1</td>\n",
       "      <td>This is a purebred Piers Morgan. Loves to Netf...</td>\n",
       "    </tr>\n",
       "    <tr>\n",
       "      <th>1663</th>\n",
       "      <td>666033412701032449</td>\n",
       "      <td>2015-11-15 23:21:54+00:00</td>\n",
       "      <td>9/10</td>\n",
       "      <td>47</td>\n",
       "      <td>128</td>\n",
       "      <td>German_shepherd</td>\n",
       "      <td>0.596461</td>\n",
       "      <td>NaN</td>\n",
       "      <td>NaN</td>\n",
       "      <td>Twitter for iPhone</td>\n",
       "      <td>1</td>\n",
       "      <td>Here is a very happy pup. Big fan of well-main...</td>\n",
       "    </tr>\n",
       "    <tr>\n",
       "      <th>1664</th>\n",
       "      <td>666029285002620928</td>\n",
       "      <td>2015-11-15 23:05:30+00:00</td>\n",
       "      <td>7/10</td>\n",
       "      <td>48</td>\n",
       "      <td>132</td>\n",
       "      <td>redbone</td>\n",
       "      <td>0.506826</td>\n",
       "      <td>NaN</td>\n",
       "      <td>NaN</td>\n",
       "      <td>Twitter for iPhone</td>\n",
       "      <td>1</td>\n",
       "      <td>This is a western brown Mitsubishi terrier. Up...</td>\n",
       "    </tr>\n",
       "    <tr>\n",
       "      <th>1665</th>\n",
       "      <td>666020888022790149</td>\n",
       "      <td>2015-11-15 22:32:08+00:00</td>\n",
       "      <td>8/10</td>\n",
       "      <td>532</td>\n",
       "      <td>2535</td>\n",
       "      <td>Welsh_springer_spaniel</td>\n",
       "      <td>0.465074</td>\n",
       "      <td>NaN</td>\n",
       "      <td>NaN</td>\n",
       "      <td>Twitter for iPhone</td>\n",
       "      <td>1</td>\n",
       "      <td>Here we have a Japanese Irish Setter. Lost eye...</td>\n",
       "    </tr>\n",
       "  </tbody>\n",
       "</table>\n",
       "</div>"
      ],
      "text/plain": [
       "                tweet_id                 timestamp rating  retweet_count  \\\n",
       "1661  666049248165822465 2015-11-16 00:24:50+00:00   5/10             41   \n",
       "1662  666044226329800704 2015-11-16 00:04:52+00:00   6/10            147   \n",
       "1663  666033412701032449 2015-11-15 23:21:54+00:00   9/10             47   \n",
       "1664  666029285002620928 2015-11-15 23:05:30+00:00   7/10             48   \n",
       "1665  666020888022790149 2015-11-15 22:32:08+00:00   8/10            532   \n",
       "\n",
       "      favorite_count                   breed  confidence names categories  \\\n",
       "1661             111      miniature_pinscher    0.560311   NaN        NaN   \n",
       "1662             311     Rhodesian_ridgeback    0.408143   NaN        NaN   \n",
       "1663             128         German_shepherd    0.596461   NaN        NaN   \n",
       "1664             132                 redbone    0.506826   NaN        NaN   \n",
       "1665            2535  Welsh_springer_spaniel    0.465074   NaN        NaN   \n",
       "\n",
       "                  source  img_num  \\\n",
       "1661  Twitter for iPhone        1   \n",
       "1662  Twitter for iPhone        1   \n",
       "1663  Twitter for iPhone        1   \n",
       "1664  Twitter for iPhone        1   \n",
       "1665  Twitter for iPhone        1   \n",
       "\n",
       "                                                   text  \n",
       "1661  Here we have a 1949 1st generation vulpix. Enj...  \n",
       "1662  This is a purebred Piers Morgan. Loves to Netf...  \n",
       "1663  Here is a very happy pup. Big fan of well-main...  \n",
       "1664  This is a western brown Mitsubishi terrier. Up...  \n",
       "1665  Here we have a Japanese Irish Setter. Lost eye...  "
      ]
     },
     "execution_count": 87,
     "metadata": {},
     "output_type": "execute_result"
    }
   ],
   "source": [
    "all_tweets.tail()"
   ]
  },
  {
   "cell_type": "markdown",
   "id": "bcf0d878",
   "metadata": {},
   "source": [
    "1. What are the most common dog names"
   ]
  },
  {
   "cell_type": "code",
   "execution_count": 90,
   "id": "ec3484ab",
   "metadata": {},
   "outputs": [
    {
     "data": {
      "text/plain": [
       "Lucy       10\n",
       "Cooper     10\n",
       "Charlie    10\n",
       "Oliver      9\n",
       "Tucker      9\n",
       "Name: names, dtype: int64"
      ]
     },
     "execution_count": 90,
     "metadata": {},
     "output_type": "execute_result"
    }
   ],
   "source": [
    "all_tweets.names.value_counts().nlargest(5)"
   ]
  },
  {
   "cell_type": "markdown",
   "id": "79d486f8",
   "metadata": {},
   "source": [
    "2. what is the correlation between retweets and favorites"
   ]
  },
  {
   "cell_type": "code",
   "execution_count": 91,
   "id": "38021834",
   "metadata": {},
   "outputs": [
    {
     "data": {
      "image/png": "[encoded data removed]",
      "text/plain": [
       "<Figure size 576x432 with 1 Axes>"
      ]
     },
     "metadata": {},
     "output_type": "display_data"
    }
   ],
   "source": [
    "sns.set(rc={'figure.figsize':(8,6)})\n",
    "sns.regplot( x='favorite_count', y='retweet_count', data=all_tweets)\n",
    "\n",
    "plt.title('Favorite counts vs. Retweet counts',color='b', size=14)\n",
    "plt.ylabel('Retweet Counts', size=12)\n",
    "plt.xlabel('Favorite Counts', size=12);\n"
   ]
  },
  {
   "cell_type": "code",
   "execution_count": 92,
   "id": "1d69d16d",
   "metadata": {},
   "outputs": [
    {
     "data": {
      "text/plain": [
       "0.9132839144048364"
      ]
     },
     "execution_count": 92,
     "metadata": {},
     "output_type": "execute_result"
    }
   ],
   "source": [
    "all_tweets[['retweet_count','favorite_count']].corr().iloc[0,1]"
   ]
  },
  {
   "cell_type": "markdown",
   "id": "101fe47d",
   "metadata": {},
   "source": [
    "3. Breeds that has the highest  retweets "
   ]
  },
  {
   "cell_type": "code",
   "execution_count": 93,
   "id": "b87ae552",
   "metadata": {},
   "outputs": [
    {
     "data": {
      "text/plain": [
       "breed\n",
       "golden_retriever      586657\n",
       "Labrador_retriever    405404\n",
       "Pembroke              291771\n",
       "Chihuahua             250722\n",
       "Samoyed               203446\n",
       "Name: retweet_count, dtype: int64"
      ]
     },
     "execution_count": 93,
     "metadata": {},
     "output_type": "execute_result"
    }
   ],
   "source": [
    "breed_ret = all_tweets.groupby('breed')['retweet_count'].sum().nlargest(5)\n",
    "breed_ret"
   ]
  },
  {
   "cell_type": "code",
   "execution_count": 94,
   "id": "bcc0d2a4",
   "metadata": {},
   "outputs": [
    {
     "data": {
      "image/png": "[encoded data removed]",
      "text/plain": [
       "<Figure size 576x432 with 1 Axes>"
      ]
     },
     "metadata": {},
     "output_type": "display_data"
    }
   ],
   "source": [
    "plt.bar(x= breed_ret.index, height= breed_ret,)\n",
    "plt.xticks(rotation=45)\n",
    "plt.xlabel('Dog Breed', fontsize=14)\n",
    "plt.ylabel('Number of retweets', fontsize=14)\n",
    "plt.title('Number of retweets for dog breeds',  fontsize=18);"
   ]
  },
  {
   "cell_type": "markdown",
   "id": "0dfae732",
   "metadata": {},
   "source": [
    "4. What is the most common dog breed"
   ]
  },
  {
   "cell_type": "code",
   "execution_count": 95,
   "id": "339f9c80",
   "metadata": {},
   "outputs": [
    {
     "data": {
      "text/plain": [
       "golden_retriever      156\n",
       "Labrador_retriever    106\n",
       "Pembroke               94\n",
       "Chihuahua              90\n",
       "pug                    62\n",
       "Name: breed, dtype: int64"
      ]
     },
     "execution_count": 95,
     "metadata": {},
     "output_type": "execute_result"
    }
   ],
   "source": [
    "all_tweets.breed.value_counts().head(5)"
   ]
  },
  {
   "cell_type": "markdown",
   "id": "9544037a",
   "metadata": {},
   "source": [
    "5. What are the most common tweet sources"
   ]
  },
  {
   "cell_type": "code",
   "execution_count": 96,
   "id": "bff61119",
   "metadata": {},
   "outputs": [
    {
     "data": {
      "text/plain": [
       "Twitter for iPhone     1635\n",
       "Twitter Web Client       22\n",
       "TweetDeck                 9\n",
       "Vine - Make a Scene       0\n",
       "Name: source, dtype: int64"
      ]
     },
     "execution_count": 96,
     "metadata": {},
     "output_type": "execute_result"
    }
   ],
   "source": [
    "all_tweets.source.value_counts(ascending = False)"
   ]
  },
  {
   "cell_type": "markdown",
   "id": "1e39b988",
   "metadata": {},
   "source": [
    "6.  Which  dog categories are the most common?"
   ]
  },
  {
   "cell_type": "code",
   "execution_count": 97,
   "id": "60e40b50",
   "metadata": {},
   "outputs": [
    {
     "data": {
      "text/plain": [
       "pupper     166\n",
       "doggo       63\n",
       "puppo       21\n",
       "floofer      7\n",
       "Name: categories, dtype: int64"
      ]
     },
     "execution_count": 97,
     "metadata": {},
     "output_type": "execute_result"
    }
   ],
   "source": [
    "all_tweets.categories.value_counts()"
   ]
  },
  {
   "cell_type": "markdown",
   "id": "51e2c1bd",
   "metadata": {},
   "source": [
    "7. Which  breeds of dog has the highest overall favourite counts "
   ]
  },
  {
   "cell_type": "code",
   "execution_count": 98,
   "id": "1cd75abd",
   "metadata": {},
   "outputs": [],
   "source": [
    "fav_breed = all_tweets.groupby('breed')['favorite_count'].sum().sort_values(ascending = False).head(10)"
   ]
  },
  {
   "cell_type": "code",
   "execution_count": 99,
   "id": "3dfb5880",
   "metadata": {},
   "outputs": [
    {
     "data": {
      "text/plain": [
       "breed\n",
       "golden_retriever      1943782\n",
       "Labrador_retriever    1265355\n",
       "Pembroke              1038797\n",
       "Chihuahua              743689\n",
       "Samoyed                583906\n",
       "French_bulldog         570921\n",
       "chow                   446933\n",
       "cocker_spaniel         407412\n",
       "pug                    383817\n",
       "toy_poodle             337270\n",
       "Name: favorite_count, dtype: int64"
      ]
     },
     "execution_count": 99,
     "metadata": {},
     "output_type": "execute_result"
    }
   ],
   "source": [
    "fav_breed"
   ]
  },
  {
   "cell_type": "code",
   "execution_count": 100,
   "id": "99b75fdf",
   "metadata": {},
   "outputs": [
    {
     "data": {
      "image/png": "[encoded data removed]",
      "text/plain": [
       "<Figure size 576x432 with 1 Axes>"
      ]
     },
     "metadata": {},
     "output_type": "display_data"
    }
   ],
   "source": [
    "plt.barh(fav_breed.index, fav_breed, color = 'b')\n",
    "\n",
    "plt.xlabel(' Favorite Count', fontsize = 14)\n",
    "plt.ylabel('Dog Breeds', fontsize = 12)\n",
    "plt.title('Top 10 Dog Breeds by Favorite Count', fontsize = 16)\n",
    "plt.gca().invert_yaxis()\n",
    "plt.show();"
   ]
  },
  {
   "cell_type": "code",
   "execution_count": null,
   "id": "70036574",
   "metadata": {},
   "outputs": [],
   "source": []
  }
 ],
 "metadata": {
  "kernelspec": {
   "display_name": "Python 3 (ipykernel)",
   "language": "python",
   "name": "python3"
  },
  "language_info": {
   "codemirror_mode": {
    "name": "ipython",
    "version": 3
   },
   "file_extension": ".py",
   "mimetype": "text/x-python",
   "name": "python",
   "nbconvert_exporter": "python",
   "pygments_lexer": "ipython3",
   "version": "3.9.7"
  }
 },
 "nbformat": 4,
 "nbformat_minor": 5
}
