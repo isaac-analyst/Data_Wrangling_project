{
 "cells": [
  {
   "cell_type": "markdown",
   "id": "9a9c2fa2",
   "metadata": {},
   "source": [
    "# Reporting: wragle_report"
   ]
  },
  {
   "cell_type": "markdown",
   "id": "5800543e",
   "metadata": {},
   "source": [
    "## Data Gathering"
   ]
  },
  {
   "cell_type": "markdown",
   "id": "39f85fad",
   "metadata": {},
   "source": [
    "The data where all gathered from 3 sources, which were stored in seperate files. The datas were as follows;\n",
    "\n",
    "1. twitter-archive-enhanced.csv file which was manually downloaded from udacity servers\n",
    "\n",
    "2. image-prediction.tsv file which was programmatically downloaded and stored into my local work space from udacity servers.\n",
    "\n",
    "3. tweet-json.txt file was a json file which was stored locally as a txt file which was gathered by querying twitter API using tweepy library to extract the data needed.\n",
    "\n",
    " pandas library was used to read the 3 data into separate dataframes namelly; twitter_arc, image-prediction and df_tweet."
   ]
  },
  {
   "cell_type": "markdown",
   "id": "aeb2b70d",
   "metadata": {},
   "source": [
    "## Data Assessment"
   ]
  },
  {
   "cell_type": "markdown",
   "id": "200865e6",
   "metadata": {},
   "source": [
    "Each dataframe were visually and  programmatically assessed for quality and tidiness issues.\n",
    "\n",
    "### Quality issues\n",
    " * twitter-archive-enhanced.csv\n",
    " \n",
    "1.  The Names column had an invalid names like 'None', 'the','quite', 'a', 'an'.\n",
    "2. An object datatype was asigned to timestamp column instead of datetime datatype.\n",
    "3. Retweets were present in the dataframe which was not needed in the analysis since the concerns was the original tweets and also Reply tweets was not “original tweets” either; these data were stored in columns like in_reply_to_status_id and in_reply_to_user_id.\n",
    "4. it was observed that in most of the columns null values were represented as 'None' instead of NaN.\n",
    "5. In Some rows, there were duplicated values in their expanded_url column.\n",
    "6. The Tweet_ids were stored as integers instead of strings.\n",
    "7. Removing hyperlinks from tweet source column.\n",
    "\n",
    " * image-predictions.tsv\n",
    "\n",
    "8. Some tweet_ids had the same jpg_url."
   ]
  },
  {
   "cell_type": "markdown",
   "id": "23b25300",
   "metadata": {},
   "source": [
    "### Tidiness Issues\n",
    "\n",
    "* twitter-archive-enhanced.csv"
   ]
  },
  {
   "cell_type": "markdown",
   "id": "fdeeb8a7",
   "metadata": {},
   "source": [
    "1. Dog categories (doggo, floofer, pupper, puppo) were spread in different columns. which should had been in a asingle column.\n",
    "\n",
    "* image-predictions.tsv\n",
    "2. Breed Predictions, Confidence intervals and Dog texts were spread in three different columns.\n",
    "\n",
    "\n",
    "* tweet-json.txt\n",
    "3. twitter_arc and df_tweet had similar information about the tweet made eg thesame tweet_id. which should be melged\n",
    "\n",
    "4. joined all the data frames together using tweet_ids and performed general cleaning on the data\n",
    "\n"
   ]
  },
  {
   "cell_type": "markdown",
   "id": "838230f9",
   "metadata": {},
   "source": [
    "## Data Cleaning"
   ]
  },
  {
   "cell_type": "markdown",
   "id": "aa90350f",
   "metadata": {},
   "source": [
    " The observed Quality and tidiness issues in the data were cleaned in the following procedures."
   ]
  },
  {
   "cell_type": "markdown",
   "id": "26c6e4f6",
   "metadata": {},
   "source": [
    "1. Wrote a for loop code to asess the text column for the missing name of the dog and created a new name column to replace the old name column. Changed names with words like 'a', 'an', 'such' to NAN values\n",
    "2. Converted timestamp column from object datatype to_datetime.\n",
    "3. Changed values in name, doggo,floofer, pupper and puppo columns from None to NaN values\n",
    "4. Removed duplicated values from the expanded_urls\n",
    "5. changed tweet_id from int to string datatype for the 3 data frames\n",
    "6. Extracted the tweet-source information from the source column.\n",
    "7. placed all the four dog categories (floofer,pupper,puppo,doggo) into a single column using melt method\n",
    "8. dropped retweets column from the dataset as well as retweeted_status_id, retweeted_status_user, retweeted_status_timestamp, in_reply_to_status_id and in_reply_to_user_id\n",
    "9. dropped tweet_ids which had duplicated jpg_urls\n",
    "10. Created two new columns in image predictions dataframe called dog_breed and confidence which checked each dog breed prediction and copied the breed with the highest confidence level into the new breed column.\n",
    "11. Merged twitter_arc_clean and image_prediction_clean data frame together using tweet_id and applied general cleaning\n",
    "12. stored the dataframe to a csv file called 'twitter_archive_master.csv'"
   ]
  },
  {
   "cell_type": "code",
   "execution_count": null,
   "id": "b2e853c8",
   "metadata": {},
   "outputs": [],
   "source": []
  }
 ],
 "metadata": {
  "kernelspec": {
   "display_name": "Python 3 (ipykernel)",
   "language": "python",
   "name": "python3"
  },
  "language_info": {
   "codemirror_mode": {
    "name": "ipython",
    "version": 3
   },
   "file_extension": ".py",
   "mimetype": "text/x-python",
   "name": "python",
   "nbconvert_exporter": "python",
   "pygments_lexer": "ipython3",
   "version": "3.9.7"
  }
 },
 "nbformat": 4,
 "nbformat_minor": 5
}
